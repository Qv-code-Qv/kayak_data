{
  "cells": [
    {
      "cell_type": "markdown",
      "metadata": {
        "colab_type": "text",
        "id": "view-in-github"
      },
      "source": [
        "<a href=\"https://colab.research.google.com/github/Qv-code-Qv/kayak_data/blob/main/booking.ipynb\" target=\"_parent\"><img src=\"https://colab.research.google.com/assets/colab-badge.svg\" alt=\"Open In Colab\"/></a>"
      ]
    },
    {
      "cell_type": "code",
      "execution_count": null,
      "metadata": {
        "colab": {
          "base_uri": "https://localhost:8080/"
        },
        "id": "3a8QJAtQRvHR",
        "outputId": "bf509097-aef8-4019-f617-478ac2a3df97"
      },
      "outputs": [],
      "source": [
        "!pip install scrapy"
      ]
    },
    {
      "cell_type": "code",
      "execution_count": null,
      "metadata": {
        "colab": {
          "base_uri": "https://localhost:8080/"
        },
        "id": "LeHCTzE8R9zm",
        "outputId": "a371afea-03bf-4a32-a713-ec9d4b72a44f"
      },
      "outputs": [],
      "source": [
        "!python booking.py"
      ]
    },
    {
      "cell_type": "code",
      "execution_count": 1,
      "metadata": {},
      "outputs": [],
      "source": [
        "import plotly.express as px\n",
        "import pandas as pd"
      ]
    },
    {
      "cell_type": "code",
      "execution_count": 4,
      "metadata": {},
      "outputs": [
        {
          "data": {
            "application/vnd.plotly.v1+json": {
              "config": {
                "plotlyServerURL": "https://plot.ly"
              },
              "data": [
                {
                  "hovertemplate": "Ville=Lille<br>Hotel=%{text}<br>Latitude=%{lat}<br>Longitude=%{lon}<extra></extra>",
                  "lat": [
                    50.63624596
                  ],
                  "legendgroup": "Lille",
                  "lon": [
                    3.06924239
                  ],
                  "marker": {
                    "color": "#636efa",
                    "opacity": 1
                  },
                  "mode": "markers+text",
                  "name": "Lille",
                  "showlegend": true,
                  "subplot": "mapbox",
                  "text": [
                    "Hotel Chagnot"
                  ],
                  "type": "scattermapbox"
                },
                {
                  "hovertemplate": "Ville=Marseille<br>Hotel=%{text}<br>Latitude=%{lat}<br>Longitude=%{lon}<extra></extra>",
                  "lat": [
                    43.29655283,
                    43.300655
                  ],
                  "legendgroup": "Marseille",
                  "lon": [
                    5.37188329,
                    5.381292
                  ],
                  "marker": {
                    "color": "#EF553B",
                    "opacity": 1
                  },
                  "mode": "markers+text",
                  "name": "Marseille",
                  "showlegend": true,
                  "subplot": "mapbox",
                  "text": [
                    "Hôtel Hermès",
                    "NOCNOC - L'Haussmanien"
                  ],
                  "type": "scattermapbox"
                }
              ],
              "layout": {
                "legend": {
                  "title": {
                    "text": "Ville"
                  },
                  "tracegroupgap": 0
                },
                "mapbox": {
                  "center": {
                    "lat": 45.744484596666666,
                    "lon": 4.607472560000001
                  },
                  "domain": {
                    "x": [
                      0,
                      1
                    ],
                    "y": [
                      0,
                      1
                    ]
                  },
                  "style": "open-street-map",
                  "zoom": 4
                },
                "template": {
                  "data": {
                    "bar": [
                      {
                        "error_x": {
                          "color": "#2a3f5f"
                        },
                        "error_y": {
                          "color": "#2a3f5f"
                        },
                        "marker": {
                          "line": {
                            "color": "#E5ECF6",
                            "width": 0.5
                          },
                          "pattern": {
                            "fillmode": "overlay",
                            "size": 10,
                            "solidity": 0.2
                          }
                        },
                        "type": "bar"
                      }
                    ],
                    "barpolar": [
                      {
                        "marker": {
                          "line": {
                            "color": "#E5ECF6",
                            "width": 0.5
                          },
                          "pattern": {
                            "fillmode": "overlay",
                            "size": 10,
                            "solidity": 0.2
                          }
                        },
                        "type": "barpolar"
                      }
                    ],
                    "carpet": [
                      {
                        "aaxis": {
                          "endlinecolor": "#2a3f5f",
                          "gridcolor": "white",
                          "linecolor": "white",
                          "minorgridcolor": "white",
                          "startlinecolor": "#2a3f5f"
                        },
                        "baxis": {
                          "endlinecolor": "#2a3f5f",
                          "gridcolor": "white",
                          "linecolor": "white",
                          "minorgridcolor": "white",
                          "startlinecolor": "#2a3f5f"
                        },
                        "type": "carpet"
                      }
                    ],
                    "choropleth": [
                      {
                        "colorbar": {
                          "outlinewidth": 0,
                          "ticks": ""
                        },
                        "type": "choropleth"
                      }
                    ],
                    "contour": [
                      {
                        "colorbar": {
                          "outlinewidth": 0,
                          "ticks": ""
                        },
                        "colorscale": [
                          [
                            0,
                            "#0d0887"
                          ],
                          [
                            0.1111111111111111,
                            "#46039f"
                          ],
                          [
                            0.2222222222222222,
                            "#7201a8"
                          ],
                          [
                            0.3333333333333333,
                            "#9c179e"
                          ],
                          [
                            0.4444444444444444,
                            "#bd3786"
                          ],
                          [
                            0.5555555555555556,
                            "#d8576b"
                          ],
                          [
                            0.6666666666666666,
                            "#ed7953"
                          ],
                          [
                            0.7777777777777778,
                            "#fb9f3a"
                          ],
                          [
                            0.8888888888888888,
                            "#fdca26"
                          ],
                          [
                            1,
                            "#f0f921"
                          ]
                        ],
                        "type": "contour"
                      }
                    ],
                    "contourcarpet": [
                      {
                        "colorbar": {
                          "outlinewidth": 0,
                          "ticks": ""
                        },
                        "type": "contourcarpet"
                      }
                    ],
                    "heatmap": [
                      {
                        "colorbar": {
                          "outlinewidth": 0,
                          "ticks": ""
                        },
                        "colorscale": [
                          [
                            0,
                            "#0d0887"
                          ],
                          [
                            0.1111111111111111,
                            "#46039f"
                          ],
                          [
                            0.2222222222222222,
                            "#7201a8"
                          ],
                          [
                            0.3333333333333333,
                            "#9c179e"
                          ],
                          [
                            0.4444444444444444,
                            "#bd3786"
                          ],
                          [
                            0.5555555555555556,
                            "#d8576b"
                          ],
                          [
                            0.6666666666666666,
                            "#ed7953"
                          ],
                          [
                            0.7777777777777778,
                            "#fb9f3a"
                          ],
                          [
                            0.8888888888888888,
                            "#fdca26"
                          ],
                          [
                            1,
                            "#f0f921"
                          ]
                        ],
                        "type": "heatmap"
                      }
                    ],
                    "heatmapgl": [
                      {
                        "colorbar": {
                          "outlinewidth": 0,
                          "ticks": ""
                        },
                        "colorscale": [
                          [
                            0,
                            "#0d0887"
                          ],
                          [
                            0.1111111111111111,
                            "#46039f"
                          ],
                          [
                            0.2222222222222222,
                            "#7201a8"
                          ],
                          [
                            0.3333333333333333,
                            "#9c179e"
                          ],
                          [
                            0.4444444444444444,
                            "#bd3786"
                          ],
                          [
                            0.5555555555555556,
                            "#d8576b"
                          ],
                          [
                            0.6666666666666666,
                            "#ed7953"
                          ],
                          [
                            0.7777777777777778,
                            "#fb9f3a"
                          ],
                          [
                            0.8888888888888888,
                            "#fdca26"
                          ],
                          [
                            1,
                            "#f0f921"
                          ]
                        ],
                        "type": "heatmapgl"
                      }
                    ],
                    "histogram": [
                      {
                        "marker": {
                          "pattern": {
                            "fillmode": "overlay",
                            "size": 10,
                            "solidity": 0.2
                          }
                        },
                        "type": "histogram"
                      }
                    ],
                    "histogram2d": [
                      {
                        "colorbar": {
                          "outlinewidth": 0,
                          "ticks": ""
                        },
                        "colorscale": [
                          [
                            0,
                            "#0d0887"
                          ],
                          [
                            0.1111111111111111,
                            "#46039f"
                          ],
                          [
                            0.2222222222222222,
                            "#7201a8"
                          ],
                          [
                            0.3333333333333333,
                            "#9c179e"
                          ],
                          [
                            0.4444444444444444,
                            "#bd3786"
                          ],
                          [
                            0.5555555555555556,
                            "#d8576b"
                          ],
                          [
                            0.6666666666666666,
                            "#ed7953"
                          ],
                          [
                            0.7777777777777778,
                            "#fb9f3a"
                          ],
                          [
                            0.8888888888888888,
                            "#fdca26"
                          ],
                          [
                            1,
                            "#f0f921"
                          ]
                        ],
                        "type": "histogram2d"
                      }
                    ],
                    "histogram2dcontour": [
                      {
                        "colorbar": {
                          "outlinewidth": 0,
                          "ticks": ""
                        },
                        "colorscale": [
                          [
                            0,
                            "#0d0887"
                          ],
                          [
                            0.1111111111111111,
                            "#46039f"
                          ],
                          [
                            0.2222222222222222,
                            "#7201a8"
                          ],
                          [
                            0.3333333333333333,
                            "#9c179e"
                          ],
                          [
                            0.4444444444444444,
                            "#bd3786"
                          ],
                          [
                            0.5555555555555556,
                            "#d8576b"
                          ],
                          [
                            0.6666666666666666,
                            "#ed7953"
                          ],
                          [
                            0.7777777777777778,
                            "#fb9f3a"
                          ],
                          [
                            0.8888888888888888,
                            "#fdca26"
                          ],
                          [
                            1,
                            "#f0f921"
                          ]
                        ],
                        "type": "histogram2dcontour"
                      }
                    ],
                    "mesh3d": [
                      {
                        "colorbar": {
                          "outlinewidth": 0,
                          "ticks": ""
                        },
                        "type": "mesh3d"
                      }
                    ],
                    "parcoords": [
                      {
                        "line": {
                          "colorbar": {
                            "outlinewidth": 0,
                            "ticks": ""
                          }
                        },
                        "type": "parcoords"
                      }
                    ],
                    "pie": [
                      {
                        "automargin": true,
                        "type": "pie"
                      }
                    ],
                    "scatter": [
                      {
                        "fillpattern": {
                          "fillmode": "overlay",
                          "size": 10,
                          "solidity": 0.2
                        },
                        "type": "scatter"
                      }
                    ],
                    "scatter3d": [
                      {
                        "line": {
                          "colorbar": {
                            "outlinewidth": 0,
                            "ticks": ""
                          }
                        },
                        "marker": {
                          "colorbar": {
                            "outlinewidth": 0,
                            "ticks": ""
                          }
                        },
                        "type": "scatter3d"
                      }
                    ],
                    "scattercarpet": [
                      {
                        "marker": {
                          "colorbar": {
                            "outlinewidth": 0,
                            "ticks": ""
                          }
                        },
                        "type": "scattercarpet"
                      }
                    ],
                    "scattergeo": [
                      {
                        "marker": {
                          "colorbar": {
                            "outlinewidth": 0,
                            "ticks": ""
                          }
                        },
                        "type": "scattergeo"
                      }
                    ],
                    "scattergl": [
                      {
                        "marker": {
                          "colorbar": {
                            "outlinewidth": 0,
                            "ticks": ""
                          }
                        },
                        "type": "scattergl"
                      }
                    ],
                    "scattermapbox": [
                      {
                        "marker": {
                          "colorbar": {
                            "outlinewidth": 0,
                            "ticks": ""
                          }
                        },
                        "type": "scattermapbox"
                      }
                    ],
                    "scatterpolar": [
                      {
                        "marker": {
                          "colorbar": {
                            "outlinewidth": 0,
                            "ticks": ""
                          }
                        },
                        "type": "scatterpolar"
                      }
                    ],
                    "scatterpolargl": [
                      {
                        "marker": {
                          "colorbar": {
                            "outlinewidth": 0,
                            "ticks": ""
                          }
                        },
                        "type": "scatterpolargl"
                      }
                    ],
                    "scatterternary": [
                      {
                        "marker": {
                          "colorbar": {
                            "outlinewidth": 0,
                            "ticks": ""
                          }
                        },
                        "type": "scatterternary"
                      }
                    ],
                    "surface": [
                      {
                        "colorbar": {
                          "outlinewidth": 0,
                          "ticks": ""
                        },
                        "colorscale": [
                          [
                            0,
                            "#0d0887"
                          ],
                          [
                            0.1111111111111111,
                            "#46039f"
                          ],
                          [
                            0.2222222222222222,
                            "#7201a8"
                          ],
                          [
                            0.3333333333333333,
                            "#9c179e"
                          ],
                          [
                            0.4444444444444444,
                            "#bd3786"
                          ],
                          [
                            0.5555555555555556,
                            "#d8576b"
                          ],
                          [
                            0.6666666666666666,
                            "#ed7953"
                          ],
                          [
                            0.7777777777777778,
                            "#fb9f3a"
                          ],
                          [
                            0.8888888888888888,
                            "#fdca26"
                          ],
                          [
                            1,
                            "#f0f921"
                          ]
                        ],
                        "type": "surface"
                      }
                    ],
                    "table": [
                      {
                        "cells": {
                          "fill": {
                            "color": "#EBF0F8"
                          },
                          "line": {
                            "color": "white"
                          }
                        },
                        "header": {
                          "fill": {
                            "color": "#C8D4E3"
                          },
                          "line": {
                            "color": "white"
                          }
                        },
                        "type": "table"
                      }
                    ]
                  },
                  "layout": {
                    "annotationdefaults": {
                      "arrowcolor": "#2a3f5f",
                      "arrowhead": 0,
                      "arrowwidth": 1
                    },
                    "autotypenumbers": "strict",
                    "coloraxis": {
                      "colorbar": {
                        "outlinewidth": 0,
                        "ticks": ""
                      }
                    },
                    "colorscale": {
                      "diverging": [
                        [
                          0,
                          "#8e0152"
                        ],
                        [
                          0.1,
                          "#c51b7d"
                        ],
                        [
                          0.2,
                          "#de77ae"
                        ],
                        [
                          0.3,
                          "#f1b6da"
                        ],
                        [
                          0.4,
                          "#fde0ef"
                        ],
                        [
                          0.5,
                          "#f7f7f7"
                        ],
                        [
                          0.6,
                          "#e6f5d0"
                        ],
                        [
                          0.7,
                          "#b8e186"
                        ],
                        [
                          0.8,
                          "#7fbc41"
                        ],
                        [
                          0.9,
                          "#4d9221"
                        ],
                        [
                          1,
                          "#276419"
                        ]
                      ],
                      "sequential": [
                        [
                          0,
                          "#0d0887"
                        ],
                        [
                          0.1111111111111111,
                          "#46039f"
                        ],
                        [
                          0.2222222222222222,
                          "#7201a8"
                        ],
                        [
                          0.3333333333333333,
                          "#9c179e"
                        ],
                        [
                          0.4444444444444444,
                          "#bd3786"
                        ],
                        [
                          0.5555555555555556,
                          "#d8576b"
                        ],
                        [
                          0.6666666666666666,
                          "#ed7953"
                        ],
                        [
                          0.7777777777777778,
                          "#fb9f3a"
                        ],
                        [
                          0.8888888888888888,
                          "#fdca26"
                        ],
                        [
                          1,
                          "#f0f921"
                        ]
                      ],
                      "sequentialminus": [
                        [
                          0,
                          "#0d0887"
                        ],
                        [
                          0.1111111111111111,
                          "#46039f"
                        ],
                        [
                          0.2222222222222222,
                          "#7201a8"
                        ],
                        [
                          0.3333333333333333,
                          "#9c179e"
                        ],
                        [
                          0.4444444444444444,
                          "#bd3786"
                        ],
                        [
                          0.5555555555555556,
                          "#d8576b"
                        ],
                        [
                          0.6666666666666666,
                          "#ed7953"
                        ],
                        [
                          0.7777777777777778,
                          "#fb9f3a"
                        ],
                        [
                          0.8888888888888888,
                          "#fdca26"
                        ],
                        [
                          1,
                          "#f0f921"
                        ]
                      ]
                    },
                    "colorway": [
                      "#636efa",
                      "#EF553B",
                      "#00cc96",
                      "#ab63fa",
                      "#FFA15A",
                      "#19d3f3",
                      "#FF6692",
                      "#B6E880",
                      "#FF97FF",
                      "#FECB52"
                    ],
                    "font": {
                      "color": "#2a3f5f"
                    },
                    "geo": {
                      "bgcolor": "white",
                      "lakecolor": "white",
                      "landcolor": "#E5ECF6",
                      "showlakes": true,
                      "showland": true,
                      "subunitcolor": "white"
                    },
                    "hoverlabel": {
                      "align": "left"
                    },
                    "hovermode": "closest",
                    "mapbox": {
                      "style": "light"
                    },
                    "paper_bgcolor": "white",
                    "plot_bgcolor": "#E5ECF6",
                    "polar": {
                      "angularaxis": {
                        "gridcolor": "white",
                        "linecolor": "white",
                        "ticks": ""
                      },
                      "bgcolor": "#E5ECF6",
                      "radialaxis": {
                        "gridcolor": "white",
                        "linecolor": "white",
                        "ticks": ""
                      }
                    },
                    "scene": {
                      "xaxis": {
                        "backgroundcolor": "#E5ECF6",
                        "gridcolor": "white",
                        "gridwidth": 2,
                        "linecolor": "white",
                        "showbackground": true,
                        "ticks": "",
                        "zerolinecolor": "white"
                      },
                      "yaxis": {
                        "backgroundcolor": "#E5ECF6",
                        "gridcolor": "white",
                        "gridwidth": 2,
                        "linecolor": "white",
                        "showbackground": true,
                        "ticks": "",
                        "zerolinecolor": "white"
                      },
                      "zaxis": {
                        "backgroundcolor": "#E5ECF6",
                        "gridcolor": "white",
                        "gridwidth": 2,
                        "linecolor": "white",
                        "showbackground": true,
                        "ticks": "",
                        "zerolinecolor": "white"
                      }
                    },
                    "shapedefaults": {
                      "line": {
                        "color": "#2a3f5f"
                      }
                    },
                    "ternary": {
                      "aaxis": {
                        "gridcolor": "white",
                        "linecolor": "white",
                        "ticks": ""
                      },
                      "baxis": {
                        "gridcolor": "white",
                        "linecolor": "white",
                        "ticks": ""
                      },
                      "bgcolor": "#E5ECF6",
                      "caxis": {
                        "gridcolor": "white",
                        "linecolor": "white",
                        "ticks": ""
                      }
                    },
                    "title": {
                      "x": 0.05
                    },
                    "xaxis": {
                      "automargin": true,
                      "gridcolor": "white",
                      "linecolor": "white",
                      "ticks": "",
                      "title": {
                        "standoff": 15
                      },
                      "zerolinecolor": "white",
                      "zerolinewidth": 2
                    },
                    "yaxis": {
                      "automargin": true,
                      "gridcolor": "white",
                      "linecolor": "white",
                      "ticks": "",
                      "title": {
                        "standoff": 15
                      },
                      "zerolinecolor": "white",
                      "zerolinewidth": 2
                    }
                  }
                },
                "title": {
                  "text": "Our best destinations for the coming week :"
                }
              }
            }
          },
          "metadata": {},
          "output_type": "display_data"
        }
      ],
      "source": [
        "df = pd.read_csv('gps_data_1.csv')\n",
        "df.head()\n",
        "   \n",
        "fig = px.scatter_mapbox(df, opacity=1, title=\"Our best destinations for the coming week :\", color=\"Ville\", text=\"Hotel\",  lat=\"Latitude\", lon=\"Longitude\",\n",
        "                        zoom=4, mapbox_style=\"open-street-map\")\n",
        "fig.show()"
      ]
    },
    {
      "cell_type": "code",
      "execution_count": 18,
      "metadata": {},
      "outputs": [
        {
          "name": "stdout",
          "output_type": "stream",
          "text": [
            "Création du bucket Jedha dans AWS : s3.Bucket(name='jehda-2024-ps-kayak.project') \n",
            "\n",
            "       ville                     name  \\\n",
            "0  Montauban                L'Amarelo   \n",
            "1      Paris  Résidence Palais Étoile   \n",
            "2      Paris               Hotel Zora   \n",
            "3  Montauban                Le Studio   \n",
            "\n",
            "                                             website    score  \\\n",
            "0  https://www.booking.com/hotel/fr/amarelo.fr.ht...  2 sur 5   \n",
            "1  https://www.booking.com/hotel/fr/residence-pal...  1 sur 5   \n",
            "2  https://www.booking.com/hotel/fr/zora.fr.html?...  1 sur 5   \n",
            "3  https://www.booking.com/hotel/fr/le-studio-mon...  1 sur 5   \n",
            "\n",
            "                                                desc        lat       lon  \n",
            "0                Hébergement géré par un particulier  44.021308  1.351224  \n",
            "1  Située à Paris, la Résidence Palais Étoile pro...  48.878389  2.284672  \n",
            "2  Situé à 800 mètres du centre Pompidou, l'Hotel...  48.866459  2.346741  \n",
            "3                Hébergement géré par un particulier  44.021355  1.351288  \n",
            "('Montauban', \"L'Amarelo\", '2 sur 5')\n",
            "('Paris', 'Résidence Palais Étoile', '1 sur 5')\n",
            "('Paris', 'Hotel Zora', '1 sur 5')\n",
            "('Montauban', 'Le Studio', '1 sur 5')\n",
            "\n",
            "confirmation suppression booking.json file dans AWS {'ResponseMetadata': {'RequestId': '4J02ACHJFESS5E8R', 'HostId': 'j7nQyyMQHOkZ+iixobsWoPUQtknZrZ7VOQ49yT4v3ixa3KYLqi8vS3jYCD6W8Oa+Xzhr4VrJi60=', 'HTTPStatusCode': 200, 'HTTPHeaders': {'x-amz-id-2': 'j7nQyyMQHOkZ+iixobsWoPUQtknZrZ7VOQ49yT4v3ixa3KYLqi8vS3jYCD6W8Oa+Xzhr4VrJi60=', 'x-amz-request-id': '4J02ACHJFESS5E8R', 'date': 'Tue, 16 Apr 2024 20:36:00 GMT', 'content-type': 'application/xml', 'transfer-encoding': 'chunked', 'server': 'AmazonS3', 'connection': 'close'}, 'RetryAttempts': 0}, 'Deleted': [{'Key': 'files/booking.json'}]} \n",
            "\n",
            "confirmation suppression bucket jedha-bucketdeletion dans AWS {'ResponseMetadata': {'RequestId': 'J1EP6R8Y4HTSGDXX', 'HostId': 'wTxCwbPCd6fXspWNW5YnW9ooleAAiTLKdlnXHAsb3qSJaitHovAxWD1YiWFVPZTgkZGytHK2jRo=', 'HTTPStatusCode': 204, 'HTTPHeaders': {'x-amz-id-2': 'wTxCwbPCd6fXspWNW5YnW9ooleAAiTLKdlnXHAsb3qSJaitHovAxWD1YiWFVPZTgkZGytHK2jRo=', 'x-amz-request-id': 'J1EP6R8Y4HTSGDXX', 'date': 'Tue, 16 Apr 2024 20:36:01 GMT', 'server': 'AmazonS3'}, 'RetryAttempts': 0}} \n",
            "\n"
          ]
        }
      ],
      "source": [
        "import os \n",
        "import logging\n",
        "import boto3.session\n",
        "import my_key as key\n",
        "import pandas as pd\n",
        "import logging\n",
        "import boto3\n",
        "import sqlite3\n",
        "\n",
        "AWS_ACCESS_KEY_ID = key.aws_access_key_id\n",
        "AWS_SECRET_ACCESS_KEY =key.aws_secret_access_key\n",
        "REGION_NAME = \"eu-west-3\"\n",
        "BUCKET_NAME =\"jehda-2024-ps-kayak.project\"\n",
        "\n",
        "booking_json = open('fichier_final/booking.json', 'rb')\n",
        "\n",
        "#sauvegarde du résultat dans data lake (aws-s3)\n",
        "logging.getLogger('botocore').setLevel(logging.INFO)\n",
        "logging.getLogger('boto3').setLevel(logging.INFO)\n",
        "session =   boto3.Session(aws_access_key_id = AWS_ACCESS_KEY_ID,\n",
        "                        aws_secret_access_key = AWS_SECRET_ACCESS_KEY,\n",
        "                        region_name= REGION_NAME)                  \n",
        "s3_kayak = session.resource(\"s3\")\n",
        "\n",
        "\"\"\" CREATE BUCKET AND UPLOAD FILE \"\"\"\n",
        "bucket_kayak = s3_kayak.create_bucket(Bucket=BUCKET_NAME,\n",
        "                          CreateBucketConfiguration={'LocationConstraint':REGION_NAME})\n",
        "print(\"Création du bucket Jedha dans AWS :\", bucket_kayak, \"\\n\")\n",
        "bucket_kayak.upload_file(\"fichier_final/booking.json\",\"files/booking.json\")\n",
        "\n",
        "\"\"\" DOWNLOAD JSON FILE FROM S3 AND READ AS  DATAFRAME \"\"\"\n",
        "s3_obj = s3_kayak.Bucket(BUCKET_NAME).Object(\"files/booking.json\").get()\n",
        "booking_df = pd.read_json(s3_obj['Body'])\n",
        "print(booking_df.head())\n",
        "\n",
        "#CREATE Database booking\n",
        "conn = sqlite3.connect(':memory:')\n",
        "c= conn.cursor()\n",
        "\n",
        "#CREATE TABLE booking\n",
        "booking_df.to_sql('booking', conn, if_exists='replace', index = False)\n",
        "c.execute('SELECT ville, name, score FROM booking LIMIT 5')\n",
        "for row in c.fetchall():\n",
        "    print (row)\n",
        "conn.close()\n",
        "\n",
        "\"\"\" SUPPRESSION JSON FILE in AWS  \"\"\"\n",
        "response = bucket_kayak.delete_objects(\n",
        "    Delete={\n",
        "        'Objects': [\n",
        "            {\n",
        "                'Key': \"files/booking.json\"\n",
        "            }\n",
        "        ]\n",
        "    }\n",
        ")\n",
        "print (\"\\nconfirmation suppression booking.json file dans AWS\", response, \"\\n\")\n",
        "\n",
        "response = bucket_kayak.delete()\n",
        "print (\"confirmation suppression bucket jedha-bucketdeletion dans AWS\", response, \"\\n\")"
      ]
    }
  ],
  "metadata": {
    "colab": {
      "authorship_tag": "ABX9TyNfllJod/n+osgQHQAB04I7",
      "include_colab_link": true,
      "mount_file_id": "https://github.com/Qv-code-Qv/kayak_data/blob/main/booking.ipynb",
      "provenance": []
    },
    "kernelspec": {
      "display_name": "Python 3",
      "name": "python3"
    },
    "language_info": {
      "codemirror_mode": {
        "name": "ipython",
        "version": 3
      },
      "file_extension": ".py",
      "mimetype": "text/x-python",
      "name": "python",
      "nbconvert_exporter": "python",
      "pygments_lexer": "ipython3",
      "version": "3.11.8"
    }
  },
  "nbformat": 4,
  "nbformat_minor": 0
}
