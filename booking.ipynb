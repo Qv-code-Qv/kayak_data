{
  "cells": [
    {
      "cell_type": "markdown",
      "metadata": {
        "colab_type": "text",
        "id": "view-in-github"
      },
      "source": [
        "<a href=\"https://colab.research.google.com/github/Qv-code-Qv/kayak_data/blob/main/booking.ipynb\" target=\"_parent\"><img src=\"https://colab.research.google.com/assets/colab-badge.svg\" alt=\"Open In Colab\"/></a>"
      ]
    },
    {
      "cell_type": "code",
      "execution_count": null,
      "metadata": {
        "colab": {
          "base_uri": "https://localhost:8080/"
        },
        "id": "3a8QJAtQRvHR",
        "outputId": "bf509097-aef8-4019-f617-478ac2a3df97"
      },
      "outputs": [],
      "source": [
        "!pip install scrapy"
      ]
    },
    {
      "cell_type": "code",
      "execution_count": null,
      "metadata": {
        "colab": {
          "base_uri": "https://localhost:8080/"
        },
        "id": "LeHCTzE8R9zm",
        "outputId": "a371afea-03bf-4a32-a713-ec9d4b72a44f"
      },
      "outputs": [],
      "source": [
        "!python booking.py"
      ]
    },
    {
      "cell_type": "code",
      "execution_count": 2,
      "metadata": {},
      "outputs": [],
      "source": [
        "import plotly.express as px\n",
        "from plotly.subplots import make_subplots\n",
        "import plotly.graph_objects as go\n",
        "import pandas as pd"
      ]
    },
    {
      "cell_type": "code",
      "execution_count": 4,
      "metadata": {},
      "outputs": [
        {
          "ename": "ValueError",
          "evalue": "The first argument to the plotly.graph_objs.Scatter\nconstructor must be a dict or\nan instance of :class:`plotly.graph_objs.Scatter`",
          "output_type": "error",
          "traceback": [
            "\u001b[1;31m---------------------------------------------------------------------------\u001b[0m",
            "\u001b[1;31mValueError\u001b[0m                                Traceback (most recent call last)",
            "Cell \u001b[1;32mIn[4], line 10\u001b[0m\n\u001b[0;32m      7\u001b[0m fig2 \u001b[38;5;241m=\u001b[39m px\u001b[38;5;241m.\u001b[39mscatter_mapbox(df, opacity\u001b[38;5;241m=\u001b[39m\u001b[38;5;241m1\u001b[39m, title\u001b[38;5;241m=\u001b[39m\u001b[38;5;124m\"\u001b[39m\u001b[38;5;124mOur best destinations for the coming week :\u001b[39m\u001b[38;5;124m\"\u001b[39m, color\u001b[38;5;241m=\u001b[39m\u001b[38;5;124m\"\u001b[39m\u001b[38;5;124mVille\u001b[39m\u001b[38;5;124m\"\u001b[39m, text\u001b[38;5;241m=\u001b[39m\u001b[38;5;124m\"\u001b[39m\u001b[38;5;124mHotel\u001b[39m\u001b[38;5;124m\"\u001b[39m,  lat\u001b[38;5;241m=\u001b[39m\u001b[38;5;124m\"\u001b[39m\u001b[38;5;124mLatitude\u001b[39m\u001b[38;5;124m\"\u001b[39m, lon\u001b[38;5;241m=\u001b[39m\u001b[38;5;124m\"\u001b[39m\u001b[38;5;124mLongitude\u001b[39m\u001b[38;5;124m\"\u001b[39m,\n\u001b[0;32m      8\u001b[0m                         zoom\u001b[38;5;241m=\u001b[39m\u001b[38;5;241m4\u001b[39m, mapbox_style\u001b[38;5;241m=\u001b[39m\u001b[38;5;124m\"\u001b[39m\u001b[38;5;124mopen-street-map\u001b[39m\u001b[38;5;124m\"\u001b[39m)\n\u001b[0;32m      9\u001b[0m fig \u001b[38;5;241m=\u001b[39m make_subplots(rows\u001b[38;5;241m=\u001b[39m\u001b[38;5;241m1\u001b[39m, cols\u001b[38;5;241m=\u001b[39m\u001b[38;5;241m2\u001b[39m)\n\u001b[1;32m---> 10\u001b[0m fig\u001b[38;5;241m.\u001b[39mappend_trace(go\u001b[38;5;241m.\u001b[39mScatter(fig1),row\u001b[38;5;241m=\u001b[39m\u001b[38;5;241m1\u001b[39m, col\u001b[38;5;241m=\u001b[39m\u001b[38;5;241m1\u001b[39m)\n\u001b[0;32m     11\u001b[0m fig\u001b[38;5;241m.\u001b[39mappend_trace(go\u001b[38;5;241m.\u001b[39mScatter(fig2), row\u001b[38;5;241m=\u001b[39m\u001b[38;5;241m1\u001b[39m, col\u001b[38;5;241m=\u001b[39m\u001b[38;5;241m2\u001b[39m)\n\u001b[0;32m     12\u001b[0m fig\u001b[38;5;241m.\u001b[39mupdate_layout(height\u001b[38;5;241m=\u001b[39m\u001b[38;5;241m450\u001b[39m, width\u001b[38;5;241m=\u001b[39m\u001b[38;5;241m716\u001b[39m, title_text\u001b[38;5;241m=\u001b[39m\u001b[38;5;124m\"\u001b[39m\u001b[38;5;124mOur best holidays plan !\u001b[39m\u001b[38;5;124m\"\u001b[39m)\n",
            "File \u001b[1;32md:\\myapp\\Anaconda\\Lib\\site-packages\\plotly\\graph_objs\\_scatter.py:3253\u001b[0m, in \u001b[0;36mScatter.__init__\u001b[1;34m(self, arg, alignmentgroup, cliponaxis, connectgaps, customdata, customdatasrc, dx, dy, error_x, error_y, fill, fillcolor, fillpattern, groupnorm, hoverinfo, hoverinfosrc, hoverlabel, hoveron, hovertemplate, hovertemplatesrc, hovertext, hovertextsrc, ids, idssrc, legend, legendgroup, legendgrouptitle, legendrank, legendwidth, line, marker, meta, metasrc, mode, name, offsetgroup, opacity, orientation, selected, selectedpoints, showlegend, stackgaps, stackgroup, stream, text, textfont, textposition, textpositionsrc, textsrc, texttemplate, texttemplatesrc, uid, uirevision, unselected, visible, x, x0, xaxis, xcalendar, xhoverformat, xperiod, xperiod0, xperiodalignment, xsrc, y, y0, yaxis, ycalendar, yhoverformat, yperiod, yperiod0, yperiodalignment, ysrc, **kwargs)\u001b[0m\n\u001b[0;32m   3251\u001b[0m             arg \u001b[38;5;241m=\u001b[39m _copy\u001b[38;5;241m.\u001b[39mcopy(arg)\n\u001b[0;32m   3252\u001b[0m         \u001b[38;5;28;01melse\u001b[39;00m:\n\u001b[1;32m-> 3253\u001b[0m             \u001b[38;5;28;01mraise\u001b[39;00m \u001b[38;5;167;01mValueError\u001b[39;00m(\n\u001b[0;32m   3254\u001b[0m \u001b[38;5;250m                \u001b[39m\u001b[38;5;124;03m\"\"\"\\\u001b[39;00m\n\u001b[0;32m   3255\u001b[0m \u001b[38;5;124;03mThe first argument to the plotly.graph_objs.Scatter\u001b[39;00m\n\u001b[0;32m   3256\u001b[0m \u001b[38;5;124;03mconstructor must be a dict or\u001b[39;00m\n\u001b[0;32m   3257\u001b[0m \u001b[38;5;124;03man instance of :class:`plotly.graph_objs.Scatter`\"\"\"\u001b[39;00m\n\u001b[0;32m   3258\u001b[0m             )\n\u001b[0;32m   3260\u001b[0m         \u001b[38;5;66;03m# Handle skip_invalid\u001b[39;00m\n\u001b[0;32m   3261\u001b[0m         \u001b[38;5;66;03m# -------------------\u001b[39;00m\n\u001b[0;32m   3262\u001b[0m         \u001b[38;5;28mself\u001b[39m\u001b[38;5;241m.\u001b[39m_skip_invalid \u001b[38;5;241m=\u001b[39m kwargs\u001b[38;5;241m.\u001b[39mpop(\u001b[38;5;124m\"\u001b[39m\u001b[38;5;124mskip_invalid\u001b[39m\u001b[38;5;124m\"\u001b[39m, \u001b[38;5;28;01mFalse\u001b[39;00m)\n",
            "\u001b[1;31mValueError\u001b[0m: The first argument to the plotly.graph_objs.Scatter\nconstructor must be a dict or\nan instance of :class:`plotly.graph_objs.Scatter`"
          ]
        }
      ],
      "source": [
        "df = pd.read_csv('gps_data_1.csv')\n",
        "df.head()\n",
        "\n",
        "fig1 = px.scatter_mapbox(df, opacity=1, title=\"Our best destinations for the coming week :\", color=\"Ville\", text=\"Hotel\",  lat=\"Latitude\", lon=\"Longitude\",\n",
        "                        zoom=4, mapbox_style=\"open-street-map\")\n",
        "\n",
        "fig2 = px.scatter_mapbox(df, opacity=1, title=\"Our best destinations for the coming week :\", color=\"Ville\", text=\"Hotel\",  lat=\"Latitude\", lon=\"Longitude\",\n",
        "                        zoom=4, mapbox_style=\"open-street-map\")\n",
        "fig = make_subplots(rows=1, cols=2)\n",
        "fig.append_trace(go.Scatter(fig1),row=1, col=1)\n",
        "fig.append_trace(go.Scatter(fig2),row=1, col=2)\n",
        "fig.update_layout(height=450, width=716, title_text=\"Our best holidays plan !\")\n",
        "fig.show()\n"
      ]
    },
    {
      "cell_type": "code",
      "execution_count": null,
      "metadata": {},
      "outputs": [],
      "source": [
        "import os \n",
        "import logging\n",
        "import boto3.session\n",
        "import my_key as key\n",
        "import pandas as pd\n",
        "import logging\n",
        "import boto3\n",
        "import sqlite3\n",
        "\n",
        "AWS_ACCESS_KEY_ID = key.aws_access_key_id\n",
        "AWS_SECRET_ACCESS_KEY =key.aws_secret_access_key\n",
        "REGION_NAME = \"eu-west-3\"\n",
        "BUCKET_NAME =\"jehda-2024-ps-kayak.project\"\n",
        "\n",
        "booking_json = open('fichier_final/booking.json', 'rb')\n",
        "\n",
        "#sauvegarde du résultat dans data lake (aws-s3)\n",
        "logging.getLogger('botocore').setLevel(logging.INFO)\n",
        "logging.getLogger('boto3').setLevel(logging.INFO)\n",
        "session =   boto3.Session(aws_access_key_id = AWS_ACCESS_KEY_ID,\n",
        "                        aws_secret_access_key = AWS_SECRET_ACCESS_KEY,\n",
        "                        region_name= REGION_NAME)                  \n",
        "s3_kayak = session.resource(\"s3\")\n",
        "\n",
        "\"\"\" CREATE BUCKET AND UPLOAD FILE \"\"\"\n",
        "bucket_kayak = s3_kayak.create_bucket(Bucket=BUCKET_NAME,\n",
        "                          CreateBucketConfiguration={'LocationConstraint':REGION_NAME})\n",
        "print(\"Création du bucket Jedha dans AWS :\", bucket_kayak, \"\\n\")\n",
        "bucket_kayak.upload_file(\"fichier_final/booking.json\",\"files/booking.json\")\n",
        "\n",
        "\"\"\" DOWNLOAD JSON FILE FROM S3 AND READ AS  DATAFRAME \"\"\"\n",
        "s3_obj = s3_kayak.Bucket(BUCKET_NAME).Object(\"files/booking.json\").get()\n",
        "booking_df = pd.read_json(s3_obj['Body'])\n",
        "print(booking_df.head())"
      ]
    },
    {
      "cell_type": "code",
      "execution_count": null,
      "metadata": {},
      "outputs": [],
      "source": [
        "#CREATE Database booking\n",
        "conn = sqlite3.connect(':memory:')\n",
        "c= conn.cursor()\n",
        "\n",
        "#CREATE TABLE booking\n",
        "booking_df.to_sql('booking', conn, if_exists='replace', index = False)\n",
        "c.execute('SELECT ville, name, score FROM booking LIMIT 5')\n",
        "for row in c.fetchall():\n",
        "    print (row)\n",
        "conn.close()"
      ]
    },
    {
      "cell_type": "code",
      "execution_count": null,
      "metadata": {},
      "outputs": [],
      "source": [
        "\"\"\" SUPPRESSION JSON FILE in AWS  \"\"\"\n",
        "response = bucket_kayak.delete_objects(\n",
        "    Delete={\n",
        "        'Objects': [\n",
        "            {\n",
        "                'Key': \"files/booking.json\"\n",
        "            }\n",
        "        ]\n",
        "    }\n",
        ")\n",
        "print (\"\\nconfirmation suppression booking.json file dans AWS\", response, \"\\n\")\n",
        "\n",
        "response = bucket_kayak.delete()\n",
        "print (\"confirmation suppression bucket jedha-bucketdeletion dans AWS\", response, \"\\n\")"
      ]
    }
  ],
  "metadata": {
    "colab": {
      "authorship_tag": "ABX9TyNfllJod/n+osgQHQAB04I7",
      "include_colab_link": true,
      "mount_file_id": "https://github.com/Qv-code-Qv/kayak_data/blob/main/booking.ipynb",
      "provenance": []
    },
    "kernelspec": {
      "display_name": "Python 3",
      "name": "python3"
    },
    "language_info": {
      "codemirror_mode": {
        "name": "ipython",
        "version": 3
      },
      "file_extension": ".py",
      "mimetype": "text/x-python",
      "name": "python",
      "nbconvert_exporter": "python",
      "pygments_lexer": "ipython3",
      "version": "3.11.8"
    }
  },
  "nbformat": 4,
  "nbformat_minor": 0
}
