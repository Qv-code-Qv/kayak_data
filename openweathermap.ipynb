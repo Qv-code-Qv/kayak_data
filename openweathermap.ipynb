{
 "cells": [
  {
   "cell_type": "code",
   "execution_count": 18,
   "metadata": {},
   "outputs": [],
   "source": [
    "import requests\n",
    "import pandas as pd\n",
    "import my_key as key\n",
    "import csv"
   ]
  },
  {
   "cell_type": "code",
   "execution_count": 19,
   "metadata": {},
   "outputs": [],
   "source": [
    "api_key = key.api_key"
   ]
  },
  {
   "cell_type": "code",
   "execution_count": 25,
   "metadata": {},
   "outputs": [
    {
     "data": {
      "text/html": [
       "<div>\n",
       "<style scoped>\n",
       "    .dataframe tbody tr th:only-of-type {\n",
       "        vertical-align: middle;\n",
       "    }\n",
       "\n",
       "    .dataframe tbody tr th {\n",
       "        vertical-align: top;\n",
       "    }\n",
       "\n",
       "    .dataframe thead th {\n",
       "        text-align: right;\n",
       "    }\n",
       "</style>\n",
       "<table border=\"1\" class=\"dataframe\">\n",
       "  <thead>\n",
       "    <tr style=\"text-align: right;\">\n",
       "      <th></th>\n",
       "      <th>Ville</th>\n",
       "      <th>Latitude</th>\n",
       "      <th>Longitude</th>\n",
       "    </tr>\n",
       "  </thead>\n",
       "  <tbody>\n",
       "    <tr>\n",
       "      <th>0</th>\n",
       "      <td>Mont Saint Michel</td>\n",
       "      <td>48.635954</td>\n",
       "      <td>-1.511460</td>\n",
       "    </tr>\n",
       "    <tr>\n",
       "      <th>1</th>\n",
       "      <td>Saint Malo</td>\n",
       "      <td>48.649518</td>\n",
       "      <td>-2.026041</td>\n",
       "    </tr>\n",
       "    <tr>\n",
       "      <th>2</th>\n",
       "      <td>Bayeux</td>\n",
       "      <td>49.276462</td>\n",
       "      <td>-0.702474</td>\n",
       "    </tr>\n",
       "    <tr>\n",
       "      <th>3</th>\n",
       "      <td>Le Havre</td>\n",
       "      <td>49.493898</td>\n",
       "      <td>0.107973</td>\n",
       "    </tr>\n",
       "    <tr>\n",
       "      <th>4</th>\n",
       "      <td>Rouen</td>\n",
       "      <td>49.440459</td>\n",
       "      <td>1.093966</td>\n",
       "    </tr>\n",
       "  </tbody>\n",
       "</table>\n",
       "</div>"
      ],
      "text/plain": [
       "               Ville   Latitude  Longitude\n",
       "0  Mont Saint Michel  48.635954  -1.511460\n",
       "1         Saint Malo  48.649518  -2.026041\n",
       "2             Bayeux  49.276462  -0.702474\n",
       "3           Le Havre  49.493898   0.107973\n",
       "4              Rouen  49.440459   1.093966"
      ]
     },
     "execution_count": 25,
     "metadata": {},
     "output_type": "execute_result"
    }
   ],
   "source": [
    "df = pd.read_csv(\"gps_data.csv\")\n",
    "df.head()\n"
   ]
  },
  {
   "cell_type": "code",
   "execution_count": null,
   "metadata": {},
   "outputs": [],
   "source": [
    "# Fonction pour récupérer la température, l'humidité et le champ \"main\" d'une ville\n",
    "def get_temperature_humidity_and_main(latitude, longitude):\n",
    "    url = f\"https://api.openweathermap.org/data/3.0/onecall?lat={latitude}&lon={longitude}&appid={api_key}\"\n",
    "    response = requests.get(url)\n",
    "    data = response.json()\n",
    "    if \"current\" in data:\n",
    "        temperature_celsius = data[\"current\"][\"temp\"] - 273.15  # Convertir de Kelvin en Celsius\n",
    "        humidity = data[\"current\"][\"humidity\"]\n",
    "        weather_main = data[\"current\"][\"weather\"][0][\"main\"]\n",
    "        return temperature_celsius, humidity, weather_main\n",
    "    else:\n",
    "        return None, None, None"
   ]
  },
  {
   "cell_type": "code",
   "execution_count": null,
   "metadata": {},
   "outputs": [],
   "source": [
    "csv_filename = \"meteo_data.csv\"\n",
    "\n",
    "# Créer un fichier CSV\n",
    "with open('meteo_data.csv', 'w', newline='') as csvfile:\n",
    "    fieldnames = ['Ville', 'Température (°C)', 'Humidité (%)', 'Météo principale']\n",
    "    writer = csv.DictWriter(csvfile, fieldnames=fieldnames)\n",
    "    writer.writeheader()\n",
    "\n",
    "    # Parcourir les lignes du DataFrame\n",
    "    for index, row in df.iterrows():\n",
    "        ville = row['Ville']\n",
    "        latitude = row['Latitude']\n",
    "        longitude = row['Longitude']\n",
    "        temperature, humidity, weather_main = get_temperature_humidity_and_main(latitude, longitude)\n",
    "        if temperature is not None:\n",
    "            temperature_rounded = round(temperature)  # Arrondir la température à l'entier le plus proche\n",
    "            writer.writerow({'Ville': ville, 'Température (°C)': temperature_rounded, 'Humidité (%)': humidity, 'Météo principale': weather_main})\n",
    "            print(f\"Ville: {ville}, Température : {temperature_rounded}°C, Humidité : {humidity}%, Météo principale: {weather_main}\")\n",
    "        else:\n",
    "            writer.writerow({'Ville': ville, 'Température (°C)': 'N/A', 'Humidité (%)': 'N/A', 'Météo principale': 'N/A'})\n",
    "\n",
    "print(\"Les résultats ont été enregistrés dans 'meteo_data.csv'\")"
   ]
  },
  {
   "cell_type": "code",
   "execution_count": 27,
   "metadata": {},
   "outputs": [
    {
     "data": {
      "text/html": [
       "<div>\n",
       "<style scoped>\n",
       "    .dataframe tbody tr th:only-of-type {\n",
       "        vertical-align: middle;\n",
       "    }\n",
       "\n",
       "    .dataframe tbody tr th {\n",
       "        vertical-align: top;\n",
       "    }\n",
       "\n",
       "    .dataframe thead th {\n",
       "        text-align: right;\n",
       "    }\n",
       "</style>\n",
       "<table border=\"1\" class=\"dataframe\">\n",
       "  <thead>\n",
       "    <tr style=\"text-align: right;\">\n",
       "      <th></th>\n",
       "      <th>Ville</th>\n",
       "      <th>Température (°C)</th>\n",
       "      <th>Humidité (%)</th>\n",
       "      <th>Météo principale</th>\n",
       "    </tr>\n",
       "  </thead>\n",
       "  <tbody>\n",
       "    <tr>\n",
       "      <th>0</th>\n",
       "      <td>Mont Saint Michel</td>\n",
       "      <td>15</td>\n",
       "      <td>87</td>\n",
       "      <td>Clouds</td>\n",
       "    </tr>\n",
       "    <tr>\n",
       "      <th>1</th>\n",
       "      <td>Saint Malo</td>\n",
       "      <td>14</td>\n",
       "      <td>82</td>\n",
       "      <td>Clouds</td>\n",
       "    </tr>\n",
       "    <tr>\n",
       "      <th>2</th>\n",
       "      <td>Bayeux</td>\n",
       "      <td>14</td>\n",
       "      <td>88</td>\n",
       "      <td>Clouds</td>\n",
       "    </tr>\n",
       "    <tr>\n",
       "      <th>3</th>\n",
       "      <td>Le Havre</td>\n",
       "      <td>14</td>\n",
       "      <td>88</td>\n",
       "      <td>Clouds</td>\n",
       "    </tr>\n",
       "    <tr>\n",
       "      <th>4</th>\n",
       "      <td>Rouen</td>\n",
       "      <td>14</td>\n",
       "      <td>85</td>\n",
       "      <td>Clouds</td>\n",
       "    </tr>\n",
       "  </tbody>\n",
       "</table>\n",
       "</div>"
      ],
      "text/plain": [
       "               Ville  Température (°C)  Humidité (%) Météo principale\n",
       "0  Mont Saint Michel                15            87           Clouds\n",
       "1         Saint Malo                14            82           Clouds\n",
       "2             Bayeux                14            88           Clouds\n",
       "3           Le Havre                14            88           Clouds\n",
       "4              Rouen                14            85           Clouds"
      ]
     },
     "execution_count": 27,
     "metadata": {},
     "output_type": "execute_result"
    }
   ],
   "source": [
    "df2 = pd.read_csv(\"meteo_data.csv\")\n",
    "df2.head()"
   ]
  },
  {
   "cell_type": "code",
   "execution_count": 26,
   "metadata": {},
   "outputs": [
    {
     "name": "stdout",
     "output_type": "stream",
     "text": [
      "Ville: Mont Saint Michel, Température : 15°C, Humidité : 87%, Météo principale: Clouds\n",
      "Ville: Saint Malo, Température : 14°C, Humidité : 82%, Météo principale: Clouds\n",
      "Ville: Bayeux, Température : 14°C, Humidité : 88%, Météo principale: Clouds\n",
      "Ville: Le Havre, Température : 14°C, Humidité : 88%, Météo principale: Clouds\n",
      "Ville: Rouen, Température : 14°C, Humidité : 85%, Météo principale: Clouds\n",
      "Ville: Paris, Température : 15°C, Humidité : 73%, Météo principale: Rain\n",
      "Ville: Amiens, Température : 14°C, Humidité : 81%, Météo principale: Rain\n",
      "Ville: Lille, Température : 14°C, Humidité : 75%, Météo principale: Rain\n",
      "Ville: Strasbourg, Température : 16°C, Humidité : 77%, Météo principale: Clear\n",
      "Ville: Chateau du Haut Koenigsbourg, Température : 13°C, Humidité : 67%, Météo principale: Clear\n",
      "Ville: Colmar, Température : 16°C, Humidité : 67%, Météo principale: Clear\n",
      "Ville: Eguisheim, Température : 16°C, Humidité : 67%, Météo principale: Clear\n",
      "Ville: Besancon, Température : 17°C, Humidité : 60%, Météo principale: Clouds\n",
      "Ville: Dijon, Température : 15°C, Humidité : 67%, Météo principale: Clear\n",
      "Ville: Annecy, Température : 13°C, Humidité : 71%, Météo principale: Clear\n",
      "Ville: Grenoble, Température : 17°C, Humidité : 59%, Météo principale: Clouds\n",
      "Ville: Lyon, Température : 17°C, Humidité : 58%, Météo principale: Clear\n",
      "Ville: Gorges du Verdon, Température : 10°C, Humidité : 59%, Météo principale: Clouds\n",
      "Ville: Bormes les Mimosas, Température : 15°C, Humidité : 81%, Météo principale: Clouds\n",
      "Ville: Cassis, Température : 17°C, Humidité : 58%, Météo principale: Clouds\n",
      "Ville: Marseille, Température : 17°C, Humidité : 60%, Météo principale: Clouds\n",
      "Ville: Aix en Provence, Température : 16°C, Humidité : 66%, Météo principale: Clouds\n",
      "Ville: Avignon, Température : 16°C, Humidité : 63%, Météo principale: Clear\n",
      "Ville: Uzes, Température : 15°C, Humidité : 69%, Météo principale: Clouds\n",
      "Ville: Nimes, Température : 15°C, Humidité : 77%, Météo principale: Clear\n",
      "Ville: Aigues Mortes, Température : 16°C, Humidité : 88%, Météo principale: Clouds\n",
      "Ville: Saintes Maries de la mer, Température : 16°C, Humidité : 79%, Météo principale: Clouds\n",
      "Ville: Collioure, Température : 17°C, Humidité : 62%, Météo principale: Clouds\n",
      "Ville: Carcassonne, Température : 15°C, Humidité : 81%, Météo principale: Clouds\n",
      "Ville: Ariege, Température : 10°C, Humidité : 50%, Météo principale: Clouds\n",
      "Ville: Toulouse, Température : 15°C, Humidité : 82%, Météo principale: Clear\n",
      "Ville: Montauban, Température : 15°C, Humidité : 80%, Météo principale: Clouds\n",
      "Ville: Biarritz, Température : 23°C, Humidité : 31%, Météo principale: Clouds\n",
      "Ville: Bayonne, Température : 23°C, Humidité : 31%, Météo principale: Clouds\n",
      "Ville: La Rochelle, Température : 15°C, Humidité : 85%, Météo principale: Rain\n",
      "Les résultats ont été enregistrés dans 'meteo_data.csv'\n"
     ]
    }
   ],
   "source": []
  },
  {
   "cell_type": "code",
   "execution_count": null,
   "metadata": {},
   "outputs": [],
   "source": []
  }
 ],
 "metadata": {
  "kernelspec": {
   "display_name": "base",
   "language": "python",
   "name": "python3"
  },
  "language_info": {
   "codemirror_mode": {
    "name": "ipython",
    "version": 3
   },
   "file_extension": ".py",
   "mimetype": "text/x-python",
   "name": "python",
   "nbconvert_exporter": "python",
   "pygments_lexer": "ipython3",
   "version": "3.11.5"
  }
 },
 "nbformat": 4,
 "nbformat_minor": 2
}
