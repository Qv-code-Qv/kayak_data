{
 "cells": [
  {
   "cell_type": "code",
   "execution_count": 75,
   "metadata": {},
   "outputs": [],
   "source": [
    "import requests\n",
    "import pandas as pd\n",
    "import my_api_key as key\n",
    "import csv"
   ]
  },
  {
   "cell_type": "code",
   "execution_count": 76,
   "metadata": {},
   "outputs": [],
   "source": [
    "api_key = key.api_key"
   ]
  },
  {
   "cell_type": "code",
   "execution_count": 77,
   "metadata": {},
   "outputs": [
    {
     "data": {
      "text/html": [
       "<div>\n",
       "<style scoped>\n",
       "    .dataframe tbody tr th:only-of-type {\n",
       "        vertical-align: middle;\n",
       "    }\n",
       "\n",
       "    .dataframe tbody tr th {\n",
       "        vertical-align: top;\n",
       "    }\n",
       "\n",
       "    .dataframe thead th {\n",
       "        text-align: right;\n",
       "    }\n",
       "</style>\n",
       "<table border=\"1\" class=\"dataframe\">\n",
       "  <thead>\n",
       "    <tr style=\"text-align: right;\">\n",
       "      <th></th>\n",
       "      <th>Ville</th>\n",
       "      <th>Latitude</th>\n",
       "      <th>Longitude</th>\n",
       "    </tr>\n",
       "  </thead>\n",
       "  <tbody>\n",
       "    <tr>\n",
       "      <th>0</th>\n",
       "      <td>Mont Saint Michel</td>\n",
       "      <td>48.635954</td>\n",
       "      <td>-1.511460</td>\n",
       "    </tr>\n",
       "    <tr>\n",
       "      <th>1</th>\n",
       "      <td>Saint Malo</td>\n",
       "      <td>48.649518</td>\n",
       "      <td>-2.026041</td>\n",
       "    </tr>\n",
       "    <tr>\n",
       "      <th>2</th>\n",
       "      <td>Bayeux</td>\n",
       "      <td>49.276462</td>\n",
       "      <td>-0.702474</td>\n",
       "    </tr>\n",
       "    <tr>\n",
       "      <th>3</th>\n",
       "      <td>Le Havre</td>\n",
       "      <td>49.493898</td>\n",
       "      <td>0.107973</td>\n",
       "    </tr>\n",
       "    <tr>\n",
       "      <th>4</th>\n",
       "      <td>Rouen</td>\n",
       "      <td>49.440459</td>\n",
       "      <td>1.093966</td>\n",
       "    </tr>\n",
       "  </tbody>\n",
       "</table>\n",
       "</div>"
      ],
      "text/plain": [
       "               Ville   Latitude  Longitude\n",
       "0  Mont Saint Michel  48.635954  -1.511460\n",
       "1         Saint Malo  48.649518  -2.026041\n",
       "2             Bayeux  49.276462  -0.702474\n",
       "3           Le Havre  49.493898   0.107973\n",
       "4              Rouen  49.440459   1.093966"
      ]
     },
     "execution_count": 77,
     "metadata": {},
     "output_type": "execute_result"
    }
   ],
   "source": [
    "df = pd.read_csv(\"gps_data.csv\")\n",
    "df.head()\n"
   ]
  },
  {
   "cell_type": "code",
   "execution_count": 78,
   "metadata": {},
   "outputs": [],
   "source": [
    "\n",
    "# Fonction pour récupérer la température et le champ \"main\" d'une ville\n",
    "def get_temperature_and_main(latitude, longitude):\n",
    "    url = f\"https://api.openweathermap.org/data/3.0/onecall?lat={latitude}&lon={longitude}&appid={api_key}\"\n",
    "    response = requests.get(url)\n",
    "    data = response.json()\n",
    "    if \"current\" in data:\n",
    "        temperature_celsius = data[\"current\"][\"temp\"] - 273.15  # Convertir de Kelvin en Celsius\n",
    "        weather_main = data[\"current\"][\"weather\"][0][\"main\"]\n",
    "        return temperature_celsius, weather_main\n",
    "    else:\n",
    "        return None, None"
   ]
  },
  {
   "cell_type": "code",
   "execution_count": 79,
   "metadata": {},
   "outputs": [
    {
     "name": "stdout",
     "output_type": "stream",
     "text": [
      "Ville: Mont Saint Michel, Température : 16°C, Météo: Clouds\n",
      "Ville: Saint Malo, Température : 16°C, Météo: Rain\n",
      "Ville: Bayeux, Température : 17°C, Météo: Clouds\n",
      "Ville: Le Havre, Température : 16°C, Météo: Clouds\n",
      "Ville: Rouen, Température : 18°C, Météo: Clouds\n",
      "Ville: Paris, Température : 19°C, Météo: Clouds\n",
      "Ville: Amiens, Température : 18°C, Météo: Clouds\n",
      "Ville: Lille, Température : 16°C, Météo: Clouds\n",
      "Ville: Strasbourg, Température : 15°C, Météo: Rain\n",
      "Ville: Chateau du Haut Koenigsbourg, Température : 11°C, Météo: Clouds\n",
      "Ville: Colmar, Température : 13°C, Météo: Clouds\n",
      "Ville: Eguisheim, Température : 13°C, Météo: Clouds\n",
      "Ville: Besancon, Température : 18°C, Météo: Clouds\n",
      "Ville: Dijon, Température : 18°C, Météo: Clear\n",
      "Ville: Annecy, Température : 18°C, Météo: Clouds\n",
      "Ville: Grenoble, Température : 20°C, Météo: Clouds\n",
      "Ville: Lyon, Température : 21°C, Météo: Clear\n",
      "Ville: Gorges du Verdon, Température : 19°C, Météo: Clouds\n",
      "Ville: Bormes les Mimosas, Température : 18°C, Météo: Clouds\n",
      "Ville: Cassis, Température : 21°C, Météo: Clouds\n",
      "Ville: Marseille, Température : 21°C, Météo: Clear\n",
      "Ville: Aix en Provence, Température : 21°C, Météo: Clouds\n",
      "Ville: Avignon, Température : 22°C, Météo: Clear\n",
      "Ville: Uzes, Température : 21°C, Météo: Clouds\n",
      "Ville: Nimes, Température : 21°C, Météo: Clear\n",
      "Ville: Aigues Mortes, Température : 17°C, Météo: Clear\n",
      "Ville: Saintes Maries de la mer, Température : 21°C, Météo: Clouds\n",
      "Ville: Collioure, Température : 21°C, Météo: Clouds\n",
      "Ville: Carcassonne, Température : 23°C, Météo: Clear\n"
     ]
    }
   ],
   "source": [
    "# Créer un fichier CSV pour enregistrer les données \n",
    "csv_filename = \"meteo_data.csv\"\n",
    "\n",
    "with open('meteo_data.csv', 'w', newline='') as csvfile:\n",
    "    fieldnames = ['Ville', 'Température (°C)', 'Météo']\n",
    "    writer = csv.DictWriter(csvfile, fieldnames=fieldnames)\n",
    "    writer.writeheader()\n",
    "\n",
    "    # Parcourir les lignes du DataFrame\n",
    "    for index, row in df.iterrows():\n",
    "        ville = row['Ville']\n",
    "        latitude = row['Latitude']\n",
    "        longitude = row['Longitude']\n",
    "        temperature, weather_main = get_temperature_and_main(latitude, longitude)\n",
    "        \n",
    "        if temperature is not None:\n",
    "            temperature_rounded = round(temperature)  # Arrondir la température à l'entier le plus proche\n",
    "            writer.writerow({'Ville': ville, 'Température (°C)': temperature_rounded, 'Météo': weather_main})\n",
    "            print(f\"Ville: {ville}, Température : {temperature_rounded}°C, Météo: {weather_main}\")\n",
    "            \n",
    "        else:\n",
    "            writer.writerow({'Ville': ville, 'Température (°C)': 'N/A', 'Météo': 'N/A'})\n",
    "\n",
    "print(\"Les résultats ont été enregistrés dans 'meteo_data.csv'\")"
   ]
  },
  {
   "cell_type": "code",
   "execution_count": null,
   "metadata": {},
   "outputs": [
    {
     "data": {
      "text/html": [
       "<div>\n",
       "<style scoped>\n",
       "    .dataframe tbody tr th:only-of-type {\n",
       "        vertical-align: middle;\n",
       "    }\n",
       "\n",
       "    .dataframe tbody tr th {\n",
       "        vertical-align: top;\n",
       "    }\n",
       "\n",
       "    .dataframe thead th {\n",
       "        text-align: right;\n",
       "    }\n",
       "</style>\n",
       "<table border=\"1\" class=\"dataframe\">\n",
       "  <thead>\n",
       "    <tr style=\"text-align: right;\">\n",
       "      <th></th>\n",
       "      <th>Ville</th>\n",
       "      <th>Température (°C)</th>\n",
       "      <th>Météo</th>\n",
       "    </tr>\n",
       "  </thead>\n",
       "  <tbody>\n",
       "    <tr>\n",
       "      <th>0</th>\n",
       "      <td>Mont Saint Michel</td>\n",
       "      <td>16</td>\n",
       "      <td>Clouds</td>\n",
       "    </tr>\n",
       "    <tr>\n",
       "      <th>1</th>\n",
       "      <td>Saint Malo</td>\n",
       "      <td>16</td>\n",
       "      <td>Rain</td>\n",
       "    </tr>\n",
       "    <tr>\n",
       "      <th>2</th>\n",
       "      <td>Bayeux</td>\n",
       "      <td>17</td>\n",
       "      <td>Clouds</td>\n",
       "    </tr>\n",
       "    <tr>\n",
       "      <th>3</th>\n",
       "      <td>Le Havre</td>\n",
       "      <td>16</td>\n",
       "      <td>Clouds</td>\n",
       "    </tr>\n",
       "    <tr>\n",
       "      <th>4</th>\n",
       "      <td>Rouen</td>\n",
       "      <td>18</td>\n",
       "      <td>Clouds</td>\n",
       "    </tr>\n",
       "  </tbody>\n",
       "</table>\n",
       "</div>"
      ],
      "text/plain": [
       "               Ville  Température (°C)   Météo\n",
       "0  Mont Saint Michel                16  Clouds\n",
       "1         Saint Malo                16    Rain\n",
       "2             Bayeux                17  Clouds\n",
       "3           Le Havre                16  Clouds\n",
       "4              Rouen                18  Clouds"
      ]
     },
     "execution_count": 74,
     "metadata": {},
     "output_type": "execute_result"
    }
   ],
   "source": [
    "df = pd.read_csv(\"meteo_data.csv\")\n",
    "df.head()"
   ]
  }
 ],
 "metadata": {
  "kernelspec": {
   "display_name": "base",
   "language": "python",
   "name": "python3"
  },
  "language_info": {
   "codemirror_mode": {
    "name": "ipython",
    "version": 3
   },
   "file_extension": ".py",
   "mimetype": "text/x-python",
   "name": "python",
   "nbconvert_exporter": "python",
   "pygments_lexer": "ipython3",
   "version": "3.11.5"
  }
 },
 "nbformat": 4,
 "nbformat_minor": 2
}
