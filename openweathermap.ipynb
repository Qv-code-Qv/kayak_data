{
 "cells": [
  {
   "cell_type": "code",
   "execution_count": 59,
   "metadata": {},
   "outputs": [],
   "source": [
    "import requests\n",
    "import pandas as pd\n",
    "import json\n",
    "import my_api_key as key\n"
   ]
  },
  {
   "cell_type": "code",
   "execution_count": 60,
   "metadata": {},
   "outputs": [],
   "source": [
    "api_key = key.api_key"
   ]
  },
  {
   "cell_type": "code",
   "execution_count": 61,
   "metadata": {},
   "outputs": [],
   "source": [
    "lat= 49.314695\n",
    "lon= -2.833333\n",
    "url = \"https://api.openweathermap.org/data/3.0/onecall?lat={}&lon={}&appid={}\".format(lat,lon,api_key)"
   ]
  },
  {
   "cell_type": "code",
   "execution_count": 62,
   "metadata": {},
   "outputs": [
    {
     "data": {
      "text/html": [
       "<div>\n",
       "<style scoped>\n",
       "    .dataframe tbody tr th:only-of-type {\n",
       "        vertical-align: middle;\n",
       "    }\n",
       "\n",
       "    .dataframe tbody tr th {\n",
       "        vertical-align: top;\n",
       "    }\n",
       "\n",
       "    .dataframe thead th {\n",
       "        text-align: right;\n",
       "    }\n",
       "</style>\n",
       "<table border=\"1\" class=\"dataframe\">\n",
       "  <thead>\n",
       "    <tr style=\"text-align: right;\">\n",
       "      <th></th>\n",
       "      <th>Ville</th>\n",
       "      <th>Latitude</th>\n",
       "      <th>Longitude</th>\n",
       "    </tr>\n",
       "  </thead>\n",
       "  <tbody>\n",
       "    <tr>\n",
       "      <th>0</th>\n",
       "      <td>Mont Saint Michel</td>\n",
       "      <td>48.635954</td>\n",
       "      <td>-1.511460</td>\n",
       "    </tr>\n",
       "    <tr>\n",
       "      <th>1</th>\n",
       "      <td>Saint Malo</td>\n",
       "      <td>48.649518</td>\n",
       "      <td>-2.026041</td>\n",
       "    </tr>\n",
       "    <tr>\n",
       "      <th>2</th>\n",
       "      <td>Bayeux</td>\n",
       "      <td>49.276462</td>\n",
       "      <td>-0.702474</td>\n",
       "    </tr>\n",
       "    <tr>\n",
       "      <th>3</th>\n",
       "      <td>Le Havre</td>\n",
       "      <td>49.493898</td>\n",
       "      <td>0.107973</td>\n",
       "    </tr>\n",
       "    <tr>\n",
       "      <th>4</th>\n",
       "      <td>Rouen</td>\n",
       "      <td>49.440459</td>\n",
       "      <td>1.093966</td>\n",
       "    </tr>\n",
       "  </tbody>\n",
       "</table>\n",
       "</div>"
      ],
      "text/plain": [
       "               Ville   Latitude  Longitude\n",
       "0  Mont Saint Michel  48.635954  -1.511460\n",
       "1         Saint Malo  48.649518  -2.026041\n",
       "2             Bayeux  49.276462  -0.702474\n",
       "3           Le Havre  49.493898   0.107973\n",
       "4              Rouen  49.440459   1.093966"
      ]
     },
     "execution_count": 62,
     "metadata": {},
     "output_type": "execute_result"
    }
   ],
   "source": [
    "df = pd.read_csv(\"gps_data.csv\")\n",
    "df.head()\n"
   ]
  },
  {
   "cell_type": "code",
   "execution_count": 63,
   "metadata": {},
   "outputs": [
    {
     "name": "stdout",
     "output_type": "stream",
     "text": [
      "Ville: Mont Saint Michel, Température : 16°C, Météo principale: Rain\n",
      "Ville: Saint Malo, Température : 16°C, Météo principale: Clouds\n",
      "Ville: Bayeux, Température : 17°C, Météo principale: Clouds\n",
      "Ville: Le Havre, Température : 16°C, Météo principale: Clouds\n",
      "Ville: Rouen, Température : 17°C, Météo principale: Clouds\n",
      "Ville: Paris, Température : 18°C, Météo principale: Clouds\n",
      "Ville: Amiens, Température : 17°C, Météo principale: Clouds\n",
      "Ville: Lille, Température : 16°C, Météo principale: Clouds\n",
      "Ville: Strasbourg, Température : 15°C, Météo principale: Rain\n",
      "Ville: Chateau du Haut Koenigsbourg, Température : 11°C, Météo principale: Clouds\n",
      "Ville: Colmar, Température : 13°C, Météo principale: Clouds\n",
      "Ville: Eguisheim, Température : 13°C, Météo principale: Clouds\n",
      "Ville: Besancon, Température : 18°C, Météo principale: Clouds\n",
      "Ville: Dijon, Température : 18°C, Météo principale: Clear\n",
      "Ville: Annecy, Température : 18°C, Météo principale: Clouds\n",
      "Ville: Grenoble, Température : 20°C, Météo principale: Clouds\n",
      "Ville: Lyon, Température : 20°C, Météo principale: Clear\n",
      "Ville: Gorges du Verdon, Température : 19°C, Météo principale: Clouds\n",
      "Ville: Bormes les Mimosas, Température : 19°C, Météo principale: Clouds\n",
      "Ville: Cassis, Température : 21°C, Météo principale: Clouds\n",
      "Ville: Marseille, Température : 21°C, Météo principale: Clear\n",
      "Ville: Aix en Provence, Température : 21°C, Météo principale: Clouds\n",
      "Ville: Avignon, Température : 22°C, Météo principale: Clear\n",
      "Ville: Uzes, Température : 21°C, Météo principale: Clouds\n",
      "Ville: Nimes, Température : 20°C, Météo principale: Clear\n",
      "Ville: Aigues Mortes, Température : 18°C, Météo principale: Clear\n",
      "Ville: Saintes Maries de la mer, Température : 20°C, Météo principale: Clouds\n",
      "Ville: Collioure, Température : 21°C, Météo principale: Clouds\n",
      "Ville: Carcassonne, Température : 23°C, Météo principale: Clear\n",
      "Ville: Ariege, Température : 17°C, Météo principale: Clouds\n",
      "Ville: Toulouse, Température : 23°C, Météo principale: Clear\n",
      "Ville: Montauban, Température : 23°C, Météo principale: Clouds\n",
      "Ville: Biarritz, Température : 24°C, Météo principale: Clouds\n",
      "Ville: Bayonne, Température : 24°C, Météo principale: Clouds\n",
      "Ville: La Rochelle, Température : 15°C, Météo principale: Clouds\n",
      "Les résultats ont été enregistrés dans 'temperature.csv'\n"
     ]
    }
   ],
   "source": [
    "import csv\n",
    "\n",
    "# Fonction pour récupérer la température et le champ \"main\" d'une ville\n",
    "def get_temperature_and_main(latitude, longitude):\n",
    "    url = f\"https://api.openweathermap.org/data/3.0/onecall?lat={latitude}&lon={longitude}&appid={api_key}\"\n",
    "    response = requests.get(url)\n",
    "    data = response.json()\n",
    "    if \"current\" in data:\n",
    "        temperature_celsius = data[\"current\"][\"temp\"] - 273.15  # Convertir de Kelvin en Celsius\n",
    "        weather_main = data[\"current\"][\"weather\"][0][\"main\"]\n",
    "        return temperature_celsius, weather_main\n",
    "    else:\n",
    "        return None, None\n",
    "\n",
    "csv_filename = \"temperature.csv\"\n",
    "\n",
    "# Créer un fichier CSV\n",
    "with open('temperature.csv', 'w', newline='') as csvfile:\n",
    "    fieldnames = ['Ville', 'Température (°C)', 'Météo']\n",
    "    writer = csv.DictWriter(csvfile, fieldnames=fieldnames)\n",
    "    writer.writeheader()\n",
    "\n",
    "    # Parcourir les lignes du DataFrame\n",
    "    for index, row in df.iterrows():\n",
    "        ville = row['Ville']\n",
    "        latitude = row['Latitude']\n",
    "        longitude = row['Longitude']\n",
    "        temperature, weather_main = get_temperature_and_main(latitude, longitude)\n",
    "        if temperature is not None:\n",
    "            temperature_rounded = round(temperature)  # Arrondir la température à l'entier le plus proche\n",
    "            writer.writerow({'Ville': ville, 'Température (°C)': temperature_rounded, 'Météo': weather_main})\n",
    "            print(f\"Ville: {ville}, Température : {temperature_rounded}°C, Météo: {weather_main}\")\n",
    "        else:\n",
    "            writer.writerow({'Ville': ville, 'Température (°C)': 'N/A', 'Météo': 'N/A'})\n",
    "\n",
    "print(\"Les résultats ont été enregistrés dans 'temperature.csv'\")\n"
   ]
  },
  {
   "cell_type": "code",
   "execution_count": null,
   "metadata": {},
   "outputs": [],
   "source": []
  }
 ],
 "metadata": {
  "kernelspec": {
   "display_name": "base",
   "language": "python",
   "name": "python3"
  },
  "language_info": {
   "codemirror_mode": {
    "name": "ipython",
    "version": 3
   },
   "file_extension": ".py",
   "mimetype": "text/x-python",
   "name": "python",
   "nbconvert_exporter": "python",
   "pygments_lexer": "ipython3",
   "version": "3.11.5"
  }
 },
 "nbformat": 4,
 "nbformat_minor": 2
}
