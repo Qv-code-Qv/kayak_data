{
 "cells": [
  {
   "cell_type": "code",
   "execution_count": 211,
   "metadata": {},
   "outputs": [],
   "source": [
    "import requests\n",
    "import pandas as pd\n",
    "import my_key as key\n",
    "import csv\n",
    "import json\n",
    "import plotly.express as px"
   ]
  },
  {
   "cell_type": "code",
   "execution_count": 212,
   "metadata": {},
   "outputs": [],
   "source": [
    "api_key = key.api_key"
   ]
  },
  {
   "cell_type": "code",
   "execution_count": 213,
   "metadata": {},
   "outputs": [
    {
     "data": {
      "text/html": [
       "<div>\n",
       "<style scoped>\n",
       "    .dataframe tbody tr th:only-of-type {\n",
       "        vertical-align: middle;\n",
       "    }\n",
       "\n",
       "    .dataframe tbody tr th {\n",
       "        vertical-align: top;\n",
       "    }\n",
       "\n",
       "    .dataframe thead th {\n",
       "        text-align: right;\n",
       "    }\n",
       "</style>\n",
       "<table border=\"1\" class=\"dataframe\">\n",
       "  <thead>\n",
       "    <tr style=\"text-align: right;\">\n",
       "      <th></th>\n",
       "      <th>City</th>\n",
       "      <th>Latitude</th>\n",
       "      <th>Longitude</th>\n",
       "    </tr>\n",
       "  </thead>\n",
       "  <tbody>\n",
       "    <tr>\n",
       "      <th>0</th>\n",
       "      <td>Mont Saint Michel</td>\n",
       "      <td>48.635954</td>\n",
       "      <td>-1.511460</td>\n",
       "    </tr>\n",
       "    <tr>\n",
       "      <th>1</th>\n",
       "      <td>Saint Malo</td>\n",
       "      <td>48.649518</td>\n",
       "      <td>-2.026041</td>\n",
       "    </tr>\n",
       "    <tr>\n",
       "      <th>2</th>\n",
       "      <td>Bayeux</td>\n",
       "      <td>49.276462</td>\n",
       "      <td>-0.702474</td>\n",
       "    </tr>\n",
       "    <tr>\n",
       "      <th>3</th>\n",
       "      <td>Le Havre</td>\n",
       "      <td>49.493898</td>\n",
       "      <td>0.107973</td>\n",
       "    </tr>\n",
       "    <tr>\n",
       "      <th>4</th>\n",
       "      <td>Rouen</td>\n",
       "      <td>49.440459</td>\n",
       "      <td>1.093966</td>\n",
       "    </tr>\n",
       "  </tbody>\n",
       "</table>\n",
       "</div>"
      ],
      "text/plain": [
       "                City   Latitude  Longitude\n",
       "0  Mont Saint Michel  48.635954  -1.511460\n",
       "1         Saint Malo  48.649518  -2.026041\n",
       "2             Bayeux  49.276462  -0.702474\n",
       "3           Le Havre  49.493898   0.107973\n",
       "4              Rouen  49.440459   1.093966"
      ]
     },
     "execution_count": 213,
     "metadata": {},
     "output_type": "execute_result"
    }
   ],
   "source": [
    "# Changer le chemin du fichier si nécessaire\n",
    "\n",
    "df_gps_data = pd.read_csv(\"gps_data.csv\")\n",
    "df_gps_data.head()\n"
   ]
  },
  {
   "cell_type": "code",
   "execution_count": 214,
   "metadata": {},
   "outputs": [],
   "source": [
    "# Get weather, temperature and weather\n",
    "def get_temperature_humidity_weather(latitude, longitude):\n",
    "    url = f\"https://api.openweathermap.org/data/3.0/onecall?lat={latitude}&lon={longitude}&appid={api_key}\"\n",
    "    response = requests.get(url)\n",
    "    data = response.json()\n",
    "    if \"current\" in data:\n",
    "        temperature = data[\"current\"][\"temp\"] - 273.15  # Round temperature to the nearest whole number\n",
    "        humidity = data[\"current\"][\"humidity\"]\n",
    "        weather = data[\"current\"][\"weather\"][0][\"main\"]\n",
    "        return temperature, humidity, weather\n",
    "    else:\n",
    "        return None, None, None"
   ]
  },
  {
   "cell_type": "code",
   "execution_count": 215,
   "metadata": {},
   "outputs": [
    {
     "name": "stdout",
     "output_type": "stream",
     "text": [
      "City: Mont Saint Michel, Temperature : 12°C, Humidity : 96%, Weather: Clouds\n",
      "City: Saint Malo, Temperature : 12°C, Humidity : 100%, Weather: Clear\n",
      "City: Bayeux, Temperature : 13°C, Humidity : 84%, Weather: Clouds\n",
      "City: Le Havre, Temperature : 17°C, Humidity : 94%, Weather: Clouds\n",
      "City: Rouen, Temperature : 13°C, Humidity : 92%, Weather: Clouds\n",
      "City: Paris, Temperature : 14°C, Humidity : 92%, Weather: Clear\n",
      "City: Amiens, Temperature : 13°C, Humidity : 79%, Weather: Clear\n",
      "City: Lille, Temperature : 14°C, Humidity : 84%, Weather: Clouds\n",
      "City: Strasbourg, Temperature : 17°C, Humidity : 85%, Weather: Clouds\n",
      "City: Chateau du Haut Koenigsbourg, Temperature : 15°C, Humidity : 82%, Weather: Clear\n",
      "City: Colmar, Temperature : 18°C, Humidity : 86%, Weather: Clear\n",
      "City: Eguisheim, Temperature : 18°C, Humidity : 86%, Weather: Clear\n",
      "City: Besancon, Temperature : 15°C, Humidity : 96%, Weather: Clouds\n",
      "City: Dijon, Temperature : 16°C, Humidity : 77%, Weather: Clouds\n",
      "City: Annecy, Temperature : 18°C, Humidity : 77%, Weather: Clouds\n",
      "City: Grenoble, Temperature : 18°C, Humidity : 97%, Weather: Clouds\n",
      "City: Lyon, Temperature : 17°C, Humidity : 72%, Weather: Clear\n",
      "City: Gorges du Verdon, Temperature : 17°C, Humidity : 57%, Weather: Clouds\n",
      "City: Bormes les Mimosas, Temperature : 23°C, Humidity : 53%, Weather: Clear\n",
      "City: Cassis, Temperature : 22°C, Humidity : 56%, Weather: Clouds\n",
      "City: Marseille, Temperature : 22°C, Humidity : 59%, Weather: Clear\n",
      "City: Aix en Provence, Temperature : 20°C, Humidity : 59%, Weather: Clouds\n",
      "City: Avignon, Temperature : 21°C, Humidity : 64%, Weather: Clear\n",
      "City: Uzes, Temperature : 20°C, Humidity : 52%, Weather: Clear\n",
      "City: Nimes, Temperature : 21°C, Humidity : 56%, Weather: Clear\n",
      "City: Aigues Mortes, Temperature : 22°C, Humidity : 53%, Weather: Clear\n",
      "City: Saintes Maries de la mer, Temperature : 22°C, Humidity : 57%, Weather: Clear\n",
      "City: Collioure, Temperature : 21°C, Humidity : 55%, Weather: Clear\n",
      "City: Carcassonne, Temperature : 16°C, Humidity : 82%, Weather: Clear\n",
      "City: Ariege, Temperature : 12°C, Humidity : 82%, Weather: Clear\n",
      "City: Toulouse, Temperature : 15°C, Humidity : 88%, Weather: Clear\n",
      "City: Montauban, Temperature : 15°C, Humidity : 66%, Weather: Clear\n",
      "City: Biarritz, Temperature : 14°C, Humidity : 100%, Weather: Clear\n",
      "City: Bayonne, Temperature : 14°C, Humidity : 100%, Weather: Clear\n",
      "City: La Rochelle, Temperature : 15°C, Humidity : 94%, Weather: Clear\n",
      "Les résultats ont été enregistrés dans 'meteo_data.csv'\n"
     ]
    }
   ],
   "source": [
    "csv_filename = \"meteo_data.csv\"\n",
    "\n",
    "# Créer un fichier CSV\n",
    "with open('meteo_data.csv', 'w', newline='') as csvfile:\n",
    "    fieldnames = ['City', 'Temperature (°C)', 'Humidity (%)', 'Weather']\n",
    "    writer = csv.DictWriter(csvfile, fieldnames=fieldnames)\n",
    "    writer.writeheader()\n",
    "\n",
    "    # Parcourir les lignes du DataFrame\n",
    "    for index, row in df_gps_data.iterrows():\n",
    "        city = row['City']\n",
    "        latitude = row['Latitude']\n",
    "        longitude = row['Longitude']\n",
    "        temperature, humidity, weather = get_temperature_humidity_weather(latitude, longitude)\n",
    "        if temperature is not None:\n",
    "            temperature = round(temperature)  # Arrondir la température à l'entier le plus proche\n",
    "            writer.writerow({'City': city, 'Temperature (°C)': temperature, 'Humidity (%)': humidity, 'Weather': weather})\n",
    "            print(f\"City: {city}, Temperature : {temperature}°C, Humidity : {humidity}%, Weather: {weather}\")\n",
    "        else:\n",
    "            writer.writerow({'City': city, 'Temperature (°C)': 'N/A', 'Humidity (%)': 'N/A', 'Weather': 'N/A'})\n",
    "\n",
    "print(\"Les résultats ont été enregistrés dans 'meteo_data.csv'\")"
   ]
  },
  {
   "cell_type": "code",
   "execution_count": 216,
   "metadata": {},
   "outputs": [
    {
     "data": {
      "text/html": [
       "<div>\n",
       "<style scoped>\n",
       "    .dataframe tbody tr th:only-of-type {\n",
       "        vertical-align: middle;\n",
       "    }\n",
       "\n",
       "    .dataframe tbody tr th {\n",
       "        vertical-align: top;\n",
       "    }\n",
       "\n",
       "    .dataframe thead th {\n",
       "        text-align: right;\n",
       "    }\n",
       "</style>\n",
       "<table border=\"1\" class=\"dataframe\">\n",
       "  <thead>\n",
       "    <tr style=\"text-align: right;\">\n",
       "      <th></th>\n",
       "      <th>City</th>\n",
       "      <th>Temperature (°C)</th>\n",
       "      <th>Humidity (%)</th>\n",
       "      <th>Weather</th>\n",
       "    </tr>\n",
       "  </thead>\n",
       "  <tbody>\n",
       "    <tr>\n",
       "      <th>0</th>\n",
       "      <td>Mont Saint Michel</td>\n",
       "      <td>12</td>\n",
       "      <td>96</td>\n",
       "      <td>Clouds</td>\n",
       "    </tr>\n",
       "    <tr>\n",
       "      <th>1</th>\n",
       "      <td>Saint Malo</td>\n",
       "      <td>12</td>\n",
       "      <td>100</td>\n",
       "      <td>Clear</td>\n",
       "    </tr>\n",
       "    <tr>\n",
       "      <th>2</th>\n",
       "      <td>Bayeux</td>\n",
       "      <td>13</td>\n",
       "      <td>84</td>\n",
       "      <td>Clouds</td>\n",
       "    </tr>\n",
       "    <tr>\n",
       "      <th>3</th>\n",
       "      <td>Le Havre</td>\n",
       "      <td>17</td>\n",
       "      <td>94</td>\n",
       "      <td>Clouds</td>\n",
       "    </tr>\n",
       "    <tr>\n",
       "      <th>4</th>\n",
       "      <td>Rouen</td>\n",
       "      <td>13</td>\n",
       "      <td>92</td>\n",
       "      <td>Clouds</td>\n",
       "    </tr>\n",
       "  </tbody>\n",
       "</table>\n",
       "</div>"
      ],
      "text/plain": [
       "                City  Temperature (°C)  Humidity (%) Weather\n",
       "0  Mont Saint Michel                12            96  Clouds\n",
       "1         Saint Malo                12           100   Clear\n",
       "2             Bayeux                13            84  Clouds\n",
       "3           Le Havre                17            94  Clouds\n",
       "4              Rouen                13            92  Clouds"
      ]
     },
     "execution_count": 216,
     "metadata": {},
     "output_type": "execute_result"
    }
   ],
   "source": [
    "# Changer le chemin du fichier si nécessaire\n",
    "\n",
    "df_meteo = pd.read_csv(\"meteo_data.csv\")\n",
    "df_meteo.head()"
   ]
  },
  {
   "cell_type": "code",
   "execution_count": 217,
   "metadata": {},
   "outputs": [
    {
     "data": {
      "text/html": [
       "<div>\n",
       "<style scoped>\n",
       "    .dataframe tbody tr th:only-of-type {\n",
       "        vertical-align: middle;\n",
       "    }\n",
       "\n",
       "    .dataframe tbody tr th {\n",
       "        vertical-align: top;\n",
       "    }\n",
       "\n",
       "    .dataframe thead th {\n",
       "        text-align: right;\n",
       "    }\n",
       "</style>\n",
       "<table border=\"1\" class=\"dataframe\">\n",
       "  <thead>\n",
       "    <tr style=\"text-align: right;\">\n",
       "      <th></th>\n",
       "      <th>City</th>\n",
       "      <th>Temperature (°C)</th>\n",
       "      <th>Humidity (%)</th>\n",
       "      <th>Weather</th>\n",
       "    </tr>\n",
       "  </thead>\n",
       "  <tbody>\n",
       "    <tr>\n",
       "      <th>0</th>\n",
       "      <td>Mont Saint Michel</td>\n",
       "      <td>12</td>\n",
       "      <td>96</td>\n",
       "      <td>Clouds</td>\n",
       "    </tr>\n",
       "    <tr>\n",
       "      <th>1</th>\n",
       "      <td>Saint Malo</td>\n",
       "      <td>12</td>\n",
       "      <td>100</td>\n",
       "      <td>Clear</td>\n",
       "    </tr>\n",
       "    <tr>\n",
       "      <th>2</th>\n",
       "      <td>Bayeux</td>\n",
       "      <td>13</td>\n",
       "      <td>84</td>\n",
       "      <td>Clouds</td>\n",
       "    </tr>\n",
       "    <tr>\n",
       "      <th>3</th>\n",
       "      <td>Le Havre</td>\n",
       "      <td>17</td>\n",
       "      <td>94</td>\n",
       "      <td>Clouds</td>\n",
       "    </tr>\n",
       "    <tr>\n",
       "      <th>4</th>\n",
       "      <td>Rouen</td>\n",
       "      <td>13</td>\n",
       "      <td>92</td>\n",
       "      <td>Clouds</td>\n",
       "    </tr>\n",
       "  </tbody>\n",
       "</table>\n",
       "</div>"
      ],
      "text/plain": [
       "                City  Temperature (°C)  Humidity (%) Weather\n",
       "0  Mont Saint Michel                12            96  Clouds\n",
       "1         Saint Malo                12           100   Clear\n",
       "2             Bayeux                13            84  Clouds\n",
       "3           Le Havre                17            94  Clouds\n",
       "4              Rouen                13            92  Clouds"
      ]
     },
     "execution_count": 217,
     "metadata": {},
     "output_type": "execute_result"
    }
   ],
   "source": [
    "df_meteo.rename(columns={'temperature (°C)': 'temperature', 'humidite (%)': 'humidite'}, inplace=True)\n",
    "df_meteo.head()"
   ]
  },
  {
   "cell_type": "markdown",
   "metadata": {},
   "source": [
    "Création d'un seul fichier csv avec toute les données"
   ]
  },
  {
   "cell_type": "code",
   "execution_count": 218,
   "metadata": {},
   "outputs": [],
   "source": [
    "with open('booking.json') as f:\n",
    "    data_json = json.load(f)"
   ]
  },
  {
   "cell_type": "code",
   "execution_count": 219,
   "metadata": {},
   "outputs": [],
   "source": [
    "# Modifier les noms de ville dans le JSON\n",
    "for entry in data_json:\n",
    "    if 'ville' in entry:\n",
    "        entry['ville'] = entry['ville'].replace('+', ' ')"
   ]
  },
  {
   "cell_type": "code",
   "execution_count": 220,
   "metadata": {},
   "outputs": [
    {
     "data": {
      "text/html": [
       "<div>\n",
       "<style scoped>\n",
       "    .dataframe tbody tr th:only-of-type {\n",
       "        vertical-align: middle;\n",
       "    }\n",
       "\n",
       "    .dataframe tbody tr th {\n",
       "        vertical-align: top;\n",
       "    }\n",
       "\n",
       "    .dataframe thead th {\n",
       "        text-align: right;\n",
       "    }\n",
       "</style>\n",
       "<table border=\"1\" class=\"dataframe\">\n",
       "  <thead>\n",
       "    <tr style=\"text-align: right;\">\n",
       "      <th></th>\n",
       "      <th>ville</th>\n",
       "      <th>name</th>\n",
       "      <th>website</th>\n",
       "      <th>score</th>\n",
       "      <th>desc</th>\n",
       "      <th>lat</th>\n",
       "      <th>lon</th>\n",
       "    </tr>\n",
       "  </thead>\n",
       "  <tbody>\n",
       "    <tr>\n",
       "      <th>0</th>\n",
       "      <td>Aigues-Mortes%2C Languedoc-Roussillon%2C France</td>\n",
       "      <td>appartement n2 centre village, clim, parking g...</td>\n",
       "      <td>https://www.booking.com/hotel/fr/appartement-n...</td>\n",
       "      <td>3 sur 5</td>\n",
       "      <td>Hébergement géré par un particulier</td>\n",
       "      <td>43.56724070</td>\n",
       "      <td>4.19380070</td>\n",
       "    </tr>\n",
       "    <tr>\n",
       "      <th>1</th>\n",
       "      <td>Aigues-Mortes%2C Languedoc-Roussillon%2C France</td>\n",
       "      <td>Cabane STELLA Aigues-Mortes</td>\n",
       "      <td>https://www.booking.com/hotel/fr/la-cabane-du-...</td>\n",
       "      <td>3 sur 5</td>\n",
       "      <td>Hébergement géré par un particulier</td>\n",
       "      <td>43.57930210</td>\n",
       "      <td>4.21283370</td>\n",
       "    </tr>\n",
       "    <tr>\n",
       "      <th>2</th>\n",
       "      <td>Aigues-Mortes%2C Languedoc-Roussillon%2C France</td>\n",
       "      <td>LE FLAMANT ROSE - COSYKAZ</td>\n",
       "      <td>https://www.booking.com/hotel/fr/le-flamant-ro...</td>\n",
       "      <td>3 sur 5</td>\n",
       "      <td>Hébergement géré par un particulier</td>\n",
       "      <td>43.57152370</td>\n",
       "      <td>4.17889910</td>\n",
       "    </tr>\n",
       "    <tr>\n",
       "      <th>3</th>\n",
       "      <td>Aigues-Mortes%2C Languedoc-Roussillon%2C France</td>\n",
       "      <td>B&amp;B La Terre Brûlée</td>\n",
       "      <td>https://www.booking.com/hotel/fr/b-amp-b-la-te...</td>\n",
       "      <td>3 sur 5</td>\n",
       "      <td>Situé à Aigues-Mortes, le B&amp;B La Terre Brûlée ...</td>\n",
       "      <td>43.56197612</td>\n",
       "      <td>4.20767969</td>\n",
       "    </tr>\n",
       "    <tr>\n",
       "      <th>4</th>\n",
       "      <td>Aigues-Mortes%2C Languedoc-Roussillon%2C France</td>\n",
       "      <td>Au Cœur des Remparts</td>\n",
       "      <td>https://www.booking.com/hotel/fr/au-coeur-des-...</td>\n",
       "      <td>3 sur 5</td>\n",
       "      <td>Hébergement géré par un particulier</td>\n",
       "      <td>43.56540100</td>\n",
       "      <td>4.19297300</td>\n",
       "    </tr>\n",
       "  </tbody>\n",
       "</table>\n",
       "</div>"
      ],
      "text/plain": [
       "                                             ville  \\\n",
       "0  Aigues-Mortes%2C Languedoc-Roussillon%2C France   \n",
       "1  Aigues-Mortes%2C Languedoc-Roussillon%2C France   \n",
       "2  Aigues-Mortes%2C Languedoc-Roussillon%2C France   \n",
       "3  Aigues-Mortes%2C Languedoc-Roussillon%2C France   \n",
       "4  Aigues-Mortes%2C Languedoc-Roussillon%2C France   \n",
       "\n",
       "                                                name  \\\n",
       "0  appartement n2 centre village, clim, parking g...   \n",
       "1                        Cabane STELLA Aigues-Mortes   \n",
       "2                          LE FLAMANT ROSE - COSYKAZ   \n",
       "3                                B&B La Terre Brûlée   \n",
       "4                               Au Cœur des Remparts   \n",
       "\n",
       "                                             website    score  \\\n",
       "0  https://www.booking.com/hotel/fr/appartement-n...  3 sur 5   \n",
       "1  https://www.booking.com/hotel/fr/la-cabane-du-...  3 sur 5   \n",
       "2  https://www.booking.com/hotel/fr/le-flamant-ro...  3 sur 5   \n",
       "3  https://www.booking.com/hotel/fr/b-amp-b-la-te...  3 sur 5   \n",
       "4  https://www.booking.com/hotel/fr/au-coeur-des-...  3 sur 5   \n",
       "\n",
       "                                                desc          lat         lon  \n",
       "0                Hébergement géré par un particulier  43.56724070  4.19380070  \n",
       "1                Hébergement géré par un particulier  43.57930210  4.21283370  \n",
       "2                Hébergement géré par un particulier  43.57152370  4.17889910  \n",
       "3  Situé à Aigues-Mortes, le B&B La Terre Brûlée ...  43.56197612  4.20767969  \n",
       "4                Hébergement géré par un particulier  43.56540100  4.19297300  "
      ]
     },
     "execution_count": 220,
     "metadata": {},
     "output_type": "execute_result"
    }
   ],
   "source": [
    "# Créer un DataFrame à partir du JSON\n",
    "df_json = pd.DataFrame(data_json)\n",
    "df_json.head()"
   ]
  },
  {
   "cell_type": "code",
   "execution_count": 221,
   "metadata": {},
   "outputs": [],
   "source": [
    "df_json.rename(columns={\"ville\" : \"City\"}, inplace=True)"
   ]
  },
  {
   "cell_type": "code",
   "execution_count": 222,
   "metadata": {},
   "outputs": [
    {
     "data": {
      "text/html": [
       "<div>\n",
       "<style scoped>\n",
       "    .dataframe tbody tr th:only-of-type {\n",
       "        vertical-align: middle;\n",
       "    }\n",
       "\n",
       "    .dataframe tbody tr th {\n",
       "        vertical-align: top;\n",
       "    }\n",
       "\n",
       "    .dataframe thead th {\n",
       "        text-align: right;\n",
       "    }\n",
       "</style>\n",
       "<table border=\"1\" class=\"dataframe\">\n",
       "  <thead>\n",
       "    <tr style=\"text-align: right;\">\n",
       "      <th></th>\n",
       "      <th>City</th>\n",
       "      <th>Temperature (°C)</th>\n",
       "      <th>Humidity (%)</th>\n",
       "      <th>Weather</th>\n",
       "      <th>name</th>\n",
       "      <th>website</th>\n",
       "      <th>score</th>\n",
       "      <th>desc</th>\n",
       "      <th>lat</th>\n",
       "      <th>lon</th>\n",
       "    </tr>\n",
       "  </thead>\n",
       "  <tbody>\n",
       "    <tr>\n",
       "      <th>0</th>\n",
       "      <td>Mont Saint Michel</td>\n",
       "      <td>12</td>\n",
       "      <td>96</td>\n",
       "      <td>Clouds</td>\n",
       "      <td>Hôtel Vert</td>\n",
       "      <td>https://www.booking.com/hotel/fr/vert.fr.html?...</td>\n",
       "      <td>2 sur 5</td>\n",
       "      <td>L’Hotel Vert vous propose des chambres décorée...</td>\n",
       "      <td>48.61470049</td>\n",
       "      <td>-1.50961697</td>\n",
       "    </tr>\n",
       "    <tr>\n",
       "      <th>1</th>\n",
       "      <td>Mont Saint Michel</td>\n",
       "      <td>12</td>\n",
       "      <td>96</td>\n",
       "      <td>Clouds</td>\n",
       "      <td>La Greve Saint Michel</td>\n",
       "      <td>https://www.booking.com/hotel/fr/la-greve-sain...</td>\n",
       "      <td>3 sur 5</td>\n",
       "      <td>Hébergement géré par un particulier</td>\n",
       "      <td>48.59775819</td>\n",
       "      <td>-1.51228422</td>\n",
       "    </tr>\n",
       "    <tr>\n",
       "      <th>2</th>\n",
       "      <td>Mont Saint Michel</td>\n",
       "      <td>12</td>\n",
       "      <td>96</td>\n",
       "      <td>Clouds</td>\n",
       "      <td>Maison au pied du Mont Saint Michel 2</td>\n",
       "      <td>https://www.booking.com/hotel/fr/maison-au-pie...</td>\n",
       "      <td>3 sur 5</td>\n",
       "      <td>Hébergement géré par un particulier</td>\n",
       "      <td>48.61561170</td>\n",
       "      <td>-1.48851210</td>\n",
       "    </tr>\n",
       "    <tr>\n",
       "      <th>3</th>\n",
       "      <td>Mont Saint Michel</td>\n",
       "      <td>12</td>\n",
       "      <td>96</td>\n",
       "      <td>Clouds</td>\n",
       "      <td>Gîte Caribou</td>\n",
       "      <td>https://www.booking.com/hotel/fr/gite-caribou....</td>\n",
       "      <td>3 sur 5</td>\n",
       "      <td>Hébergement géré par un particulier</td>\n",
       "      <td>48.62259438</td>\n",
       "      <td>-1.39050267</td>\n",
       "    </tr>\n",
       "    <tr>\n",
       "      <th>4</th>\n",
       "      <td>Mont Saint Michel</td>\n",
       "      <td>12</td>\n",
       "      <td>96</td>\n",
       "      <td>Clouds</td>\n",
       "      <td>Les Hortensias</td>\n",
       "      <td>https://www.booking.com/hotel/fr/les-hortensia...</td>\n",
       "      <td>3 sur 5</td>\n",
       "      <td>Hébergement géré par un particulier</td>\n",
       "      <td>48.59456300</td>\n",
       "      <td>-1.61772500</td>\n",
       "    </tr>\n",
       "  </tbody>\n",
       "</table>\n",
       "</div>"
      ],
      "text/plain": [
       "                City  Temperature (°C)  Humidity (%) Weather  \\\n",
       "0  Mont Saint Michel                12            96  Clouds   \n",
       "1  Mont Saint Michel                12            96  Clouds   \n",
       "2  Mont Saint Michel                12            96  Clouds   \n",
       "3  Mont Saint Michel                12            96  Clouds   \n",
       "4  Mont Saint Michel                12            96  Clouds   \n",
       "\n",
       "                                    name  \\\n",
       "0                             Hôtel Vert   \n",
       "1                  La Greve Saint Michel   \n",
       "2  Maison au pied du Mont Saint Michel 2   \n",
       "3                           Gîte Caribou   \n",
       "4                         Les Hortensias   \n",
       "\n",
       "                                             website    score  \\\n",
       "0  https://www.booking.com/hotel/fr/vert.fr.html?...  2 sur 5   \n",
       "1  https://www.booking.com/hotel/fr/la-greve-sain...  3 sur 5   \n",
       "2  https://www.booking.com/hotel/fr/maison-au-pie...  3 sur 5   \n",
       "3  https://www.booking.com/hotel/fr/gite-caribou....  3 sur 5   \n",
       "4  https://www.booking.com/hotel/fr/les-hortensia...  3 sur 5   \n",
       "\n",
       "                                                desc          lat          lon  \n",
       "0  L’Hotel Vert vous propose des chambres décorée...  48.61470049  -1.50961697  \n",
       "1                Hébergement géré par un particulier  48.59775819  -1.51228422  \n",
       "2                Hébergement géré par un particulier  48.61561170  -1.48851210  \n",
       "3                Hébergement géré par un particulier  48.62259438  -1.39050267  \n",
       "4                Hébergement géré par un particulier  48.59456300  -1.61772500  "
      ]
     },
     "execution_count": 222,
     "metadata": {},
     "output_type": "execute_result"
    }
   ],
   "source": [
    "df_fusionne = df_meteo.merge(df_json, on='City', how='left')\n",
    "df_fusionne.head()"
   ]
  },
  {
   "cell_type": "code",
   "execution_count": 223,
   "metadata": {},
   "outputs": [],
   "source": [
    "new_col_names = {\n",
    "    'City': 'city',\n",
    "    'Temperature (°C)': 'temperature',\n",
    "    'Humidity (%)': 'humidity',\n",
    "    'Weather': 'weather',\n",
    "    'name': 'hotel',\n",
    "    'website': 'website',\n",
    "    'score': 'score',\n",
    "    'desc': 'description',\n",
    "    'lat': 'lat',\n",
    "    'lon': 'lon',\n",
    "}\n"
   ]
  },
  {
   "cell_type": "code",
   "execution_count": 224,
   "metadata": {},
   "outputs": [
    {
     "data": {
      "text/html": [
       "<div>\n",
       "<style scoped>\n",
       "    .dataframe tbody tr th:only-of-type {\n",
       "        vertical-align: middle;\n",
       "    }\n",
       "\n",
       "    .dataframe tbody tr th {\n",
       "        vertical-align: top;\n",
       "    }\n",
       "\n",
       "    .dataframe thead th {\n",
       "        text-align: right;\n",
       "    }\n",
       "</style>\n",
       "<table border=\"1\" class=\"dataframe\">\n",
       "  <thead>\n",
       "    <tr style=\"text-align: right;\">\n",
       "      <th></th>\n",
       "      <th>city</th>\n",
       "      <th>temperature</th>\n",
       "      <th>humidity</th>\n",
       "      <th>weather</th>\n",
       "      <th>hotel</th>\n",
       "      <th>website</th>\n",
       "      <th>score</th>\n",
       "      <th>description</th>\n",
       "      <th>lat</th>\n",
       "      <th>lon</th>\n",
       "    </tr>\n",
       "  </thead>\n",
       "  <tbody>\n",
       "    <tr>\n",
       "      <th>0</th>\n",
       "      <td>Mont Saint Michel</td>\n",
       "      <td>12</td>\n",
       "      <td>96</td>\n",
       "      <td>Clouds</td>\n",
       "      <td>Hôtel Vert</td>\n",
       "      <td>https://www.booking.com/hotel/fr/vert.fr.html?...</td>\n",
       "      <td>2 sur 5</td>\n",
       "      <td>L’Hotel Vert vous propose des chambres décorée...</td>\n",
       "      <td>48.61470049</td>\n",
       "      <td>-1.50961697</td>\n",
       "    </tr>\n",
       "    <tr>\n",
       "      <th>1</th>\n",
       "      <td>Mont Saint Michel</td>\n",
       "      <td>12</td>\n",
       "      <td>96</td>\n",
       "      <td>Clouds</td>\n",
       "      <td>La Greve Saint Michel</td>\n",
       "      <td>https://www.booking.com/hotel/fr/la-greve-sain...</td>\n",
       "      <td>3 sur 5</td>\n",
       "      <td>Hébergement géré par un particulier</td>\n",
       "      <td>48.59775819</td>\n",
       "      <td>-1.51228422</td>\n",
       "    </tr>\n",
       "    <tr>\n",
       "      <th>2</th>\n",
       "      <td>Mont Saint Michel</td>\n",
       "      <td>12</td>\n",
       "      <td>96</td>\n",
       "      <td>Clouds</td>\n",
       "      <td>Maison au pied du Mont Saint Michel 2</td>\n",
       "      <td>https://www.booking.com/hotel/fr/maison-au-pie...</td>\n",
       "      <td>3 sur 5</td>\n",
       "      <td>Hébergement géré par un particulier</td>\n",
       "      <td>48.61561170</td>\n",
       "      <td>-1.48851210</td>\n",
       "    </tr>\n",
       "    <tr>\n",
       "      <th>3</th>\n",
       "      <td>Mont Saint Michel</td>\n",
       "      <td>12</td>\n",
       "      <td>96</td>\n",
       "      <td>Clouds</td>\n",
       "      <td>Gîte Caribou</td>\n",
       "      <td>https://www.booking.com/hotel/fr/gite-caribou....</td>\n",
       "      <td>3 sur 5</td>\n",
       "      <td>Hébergement géré par un particulier</td>\n",
       "      <td>48.62259438</td>\n",
       "      <td>-1.39050267</td>\n",
       "    </tr>\n",
       "    <tr>\n",
       "      <th>4</th>\n",
       "      <td>Mont Saint Michel</td>\n",
       "      <td>12</td>\n",
       "      <td>96</td>\n",
       "      <td>Clouds</td>\n",
       "      <td>Les Hortensias</td>\n",
       "      <td>https://www.booking.com/hotel/fr/les-hortensia...</td>\n",
       "      <td>3 sur 5</td>\n",
       "      <td>Hébergement géré par un particulier</td>\n",
       "      <td>48.59456300</td>\n",
       "      <td>-1.61772500</td>\n",
       "    </tr>\n",
       "  </tbody>\n",
       "</table>\n",
       "</div>"
      ],
      "text/plain": [
       "                city  temperature  humidity weather  \\\n",
       "0  Mont Saint Michel           12        96  Clouds   \n",
       "1  Mont Saint Michel           12        96  Clouds   \n",
       "2  Mont Saint Michel           12        96  Clouds   \n",
       "3  Mont Saint Michel           12        96  Clouds   \n",
       "4  Mont Saint Michel           12        96  Clouds   \n",
       "\n",
       "                                   hotel  \\\n",
       "0                             Hôtel Vert   \n",
       "1                  La Greve Saint Michel   \n",
       "2  Maison au pied du Mont Saint Michel 2   \n",
       "3                           Gîte Caribou   \n",
       "4                         Les Hortensias   \n",
       "\n",
       "                                             website    score  \\\n",
       "0  https://www.booking.com/hotel/fr/vert.fr.html?...  2 sur 5   \n",
       "1  https://www.booking.com/hotel/fr/la-greve-sain...  3 sur 5   \n",
       "2  https://www.booking.com/hotel/fr/maison-au-pie...  3 sur 5   \n",
       "3  https://www.booking.com/hotel/fr/gite-caribou....  3 sur 5   \n",
       "4  https://www.booking.com/hotel/fr/les-hortensia...  3 sur 5   \n",
       "\n",
       "                                         description          lat          lon  \n",
       "0  L’Hotel Vert vous propose des chambres décorée...  48.61470049  -1.50961697  \n",
       "1                Hébergement géré par un particulier  48.59775819  -1.51228422  \n",
       "2                Hébergement géré par un particulier  48.61561170  -1.48851210  \n",
       "3                Hébergement géré par un particulier  48.62259438  -1.39050267  \n",
       "4                Hébergement géré par un particulier  48.59456300  -1.61772500  "
      ]
     },
     "execution_count": 224,
     "metadata": {},
     "output_type": "execute_result"
    }
   ],
   "source": [
    "df_fusionne = df_fusionne.rename(columns=new_col_names)\n",
    "df_fusionne.head()"
   ]
  },
  {
   "cell_type": "code",
   "execution_count": 225,
   "metadata": {},
   "outputs": [],
   "source": [
    "df_final = df_fusionne[\n",
    "    ['city', 'temperature', 'humidity', 'weather', \n",
    "     'hotel','website','score','description','lat','lon'\n",
    "     ]\n",
    "    ]\n"
   ]
  },
  {
   "cell_type": "code",
   "execution_count": 226,
   "metadata": {},
   "outputs": [],
   "source": [
    "df_final.to_csv('data_final.csv', index=True, index_label='id')\n"
   ]
  },
  {
   "cell_type": "code",
   "execution_count": 227,
   "metadata": {},
   "outputs": [
    {
     "data": {
      "text/html": [
       "<div>\n",
       "<style scoped>\n",
       "    .dataframe tbody tr th:only-of-type {\n",
       "        vertical-align: middle;\n",
       "    }\n",
       "\n",
       "    .dataframe tbody tr th {\n",
       "        vertical-align: top;\n",
       "    }\n",
       "\n",
       "    .dataframe thead th {\n",
       "        text-align: right;\n",
       "    }\n",
       "</style>\n",
       "<table border=\"1\" class=\"dataframe\">\n",
       "  <thead>\n",
       "    <tr style=\"text-align: right;\">\n",
       "      <th></th>\n",
       "      <th>id</th>\n",
       "      <th>city</th>\n",
       "      <th>temperature</th>\n",
       "      <th>humidity</th>\n",
       "      <th>weather</th>\n",
       "      <th>hotel</th>\n",
       "      <th>website</th>\n",
       "      <th>score</th>\n",
       "      <th>description</th>\n",
       "      <th>lat</th>\n",
       "      <th>lon</th>\n",
       "    </tr>\n",
       "  </thead>\n",
       "  <tbody>\n",
       "    <tr>\n",
       "      <th>0</th>\n",
       "      <td>0</td>\n",
       "      <td>Mont Saint Michel</td>\n",
       "      <td>12</td>\n",
       "      <td>96</td>\n",
       "      <td>Clouds</td>\n",
       "      <td>Hôtel Vert</td>\n",
       "      <td>https://www.booking.com/hotel/fr/vert.fr.html?...</td>\n",
       "      <td>2 sur 5</td>\n",
       "      <td>L’Hotel Vert vous propose des chambres décorée...</td>\n",
       "      <td>48.614700</td>\n",
       "      <td>-1.509617</td>\n",
       "    </tr>\n",
       "    <tr>\n",
       "      <th>1</th>\n",
       "      <td>1</td>\n",
       "      <td>Mont Saint Michel</td>\n",
       "      <td>12</td>\n",
       "      <td>96</td>\n",
       "      <td>Clouds</td>\n",
       "      <td>La Greve Saint Michel</td>\n",
       "      <td>https://www.booking.com/hotel/fr/la-greve-sain...</td>\n",
       "      <td>3 sur 5</td>\n",
       "      <td>Hébergement géré par un particulier</td>\n",
       "      <td>48.597758</td>\n",
       "      <td>-1.512284</td>\n",
       "    </tr>\n",
       "    <tr>\n",
       "      <th>2</th>\n",
       "      <td>2</td>\n",
       "      <td>Mont Saint Michel</td>\n",
       "      <td>12</td>\n",
       "      <td>96</td>\n",
       "      <td>Clouds</td>\n",
       "      <td>Maison au pied du Mont Saint Michel 2</td>\n",
       "      <td>https://www.booking.com/hotel/fr/maison-au-pie...</td>\n",
       "      <td>3 sur 5</td>\n",
       "      <td>Hébergement géré par un particulier</td>\n",
       "      <td>48.615612</td>\n",
       "      <td>-1.488512</td>\n",
       "    </tr>\n",
       "    <tr>\n",
       "      <th>3</th>\n",
       "      <td>3</td>\n",
       "      <td>Mont Saint Michel</td>\n",
       "      <td>12</td>\n",
       "      <td>96</td>\n",
       "      <td>Clouds</td>\n",
       "      <td>Gîte Caribou</td>\n",
       "      <td>https://www.booking.com/hotel/fr/gite-caribou....</td>\n",
       "      <td>3 sur 5</td>\n",
       "      <td>Hébergement géré par un particulier</td>\n",
       "      <td>48.622594</td>\n",
       "      <td>-1.390503</td>\n",
       "    </tr>\n",
       "    <tr>\n",
       "      <th>4</th>\n",
       "      <td>4</td>\n",
       "      <td>Mont Saint Michel</td>\n",
       "      <td>12</td>\n",
       "      <td>96</td>\n",
       "      <td>Clouds</td>\n",
       "      <td>Les Hortensias</td>\n",
       "      <td>https://www.booking.com/hotel/fr/les-hortensia...</td>\n",
       "      <td>3 sur 5</td>\n",
       "      <td>Hébergement géré par un particulier</td>\n",
       "      <td>48.594563</td>\n",
       "      <td>-1.617725</td>\n",
       "    </tr>\n",
       "  </tbody>\n",
       "</table>\n",
       "</div>"
      ],
      "text/plain": [
       "   id               city  temperature  humidity weather  \\\n",
       "0   0  Mont Saint Michel           12        96  Clouds   \n",
       "1   1  Mont Saint Michel           12        96  Clouds   \n",
       "2   2  Mont Saint Michel           12        96  Clouds   \n",
       "3   3  Mont Saint Michel           12        96  Clouds   \n",
       "4   4  Mont Saint Michel           12        96  Clouds   \n",
       "\n",
       "                                   hotel  \\\n",
       "0                             Hôtel Vert   \n",
       "1                  La Greve Saint Michel   \n",
       "2  Maison au pied du Mont Saint Michel 2   \n",
       "3                           Gîte Caribou   \n",
       "4                         Les Hortensias   \n",
       "\n",
       "                                             website    score  \\\n",
       "0  https://www.booking.com/hotel/fr/vert.fr.html?...  2 sur 5   \n",
       "1  https://www.booking.com/hotel/fr/la-greve-sain...  3 sur 5   \n",
       "2  https://www.booking.com/hotel/fr/maison-au-pie...  3 sur 5   \n",
       "3  https://www.booking.com/hotel/fr/gite-caribou....  3 sur 5   \n",
       "4  https://www.booking.com/hotel/fr/les-hortensia...  3 sur 5   \n",
       "\n",
       "                                         description        lat       lon  \n",
       "0  L’Hotel Vert vous propose des chambres décorée...  48.614700 -1.509617  \n",
       "1                Hébergement géré par un particulier  48.597758 -1.512284  \n",
       "2                Hébergement géré par un particulier  48.615612 -1.488512  \n",
       "3                Hébergement géré par un particulier  48.622594 -1.390503  \n",
       "4                Hébergement géré par un particulier  48.594563 -1.617725  "
      ]
     },
     "execution_count": 227,
     "metadata": {},
     "output_type": "execute_result"
    }
   ],
   "source": [
    "# Changer le chemin du fichier si nécessaire\n",
    "\n",
    "df_fichier_final = pd.read_csv(\"data_final.csv\")\n",
    "df_fichier_final.head()"
   ]
  },
  {
   "cell_type": "code",
   "execution_count": 228,
   "metadata": {},
   "outputs": [
    {
     "data": {
      "text/html": [
       "<div>\n",
       "<style scoped>\n",
       "    .dataframe tbody tr th:only-of-type {\n",
       "        vertical-align: middle;\n",
       "    }\n",
       "\n",
       "    .dataframe tbody tr th {\n",
       "        vertical-align: top;\n",
       "    }\n",
       "\n",
       "    .dataframe thead th {\n",
       "        text-align: right;\n",
       "    }\n",
       "</style>\n",
       "<table border=\"1\" class=\"dataframe\">\n",
       "  <thead>\n",
       "    <tr style=\"text-align: right;\">\n",
       "      <th></th>\n",
       "      <th>City</th>\n",
       "      <th>Temperature (°C)</th>\n",
       "      <th>Humidity (%)</th>\n",
       "      <th>Weather</th>\n",
       "    </tr>\n",
       "  </thead>\n",
       "  <tbody>\n",
       "    <tr>\n",
       "      <th>0</th>\n",
       "      <td>Mont Saint Michel</td>\n",
       "      <td>12</td>\n",
       "      <td>96</td>\n",
       "      <td>Clouds</td>\n",
       "    </tr>\n",
       "    <tr>\n",
       "      <th>1</th>\n",
       "      <td>Saint Malo</td>\n",
       "      <td>12</td>\n",
       "      <td>100</td>\n",
       "      <td>Clear</td>\n",
       "    </tr>\n",
       "    <tr>\n",
       "      <th>2</th>\n",
       "      <td>Bayeux</td>\n",
       "      <td>13</td>\n",
       "      <td>84</td>\n",
       "      <td>Clouds</td>\n",
       "    </tr>\n",
       "    <tr>\n",
       "      <th>3</th>\n",
       "      <td>Le Havre</td>\n",
       "      <td>17</td>\n",
       "      <td>94</td>\n",
       "      <td>Clouds</td>\n",
       "    </tr>\n",
       "    <tr>\n",
       "      <th>4</th>\n",
       "      <td>Rouen</td>\n",
       "      <td>13</td>\n",
       "      <td>92</td>\n",
       "      <td>Clouds</td>\n",
       "    </tr>\n",
       "  </tbody>\n",
       "</table>\n",
       "</div>"
      ],
      "text/plain": [
       "                City  Temperature (°C)  Humidity (%) Weather\n",
       "0  Mont Saint Michel                12            96  Clouds\n",
       "1         Saint Malo                12           100   Clear\n",
       "2             Bayeux                13            84  Clouds\n",
       "3           Le Havre                17            94  Clouds\n",
       "4              Rouen                13            92  Clouds"
      ]
     },
     "execution_count": 228,
     "metadata": {},
     "output_type": "execute_result"
    }
   ],
   "source": [
    "df_meteo.head()"
   ]
  },
  {
   "cell_type": "markdown",
   "metadata": {},
   "source": [
    "Top 5 weather localization"
   ]
  },
  {
   "cell_type": "code",
   "execution_count": 229,
   "metadata": {},
   "outputs": [
    {
     "data": {
      "text/html": [
       "<div>\n",
       "<style scoped>\n",
       "    .dataframe tbody tr th:only-of-type {\n",
       "        vertical-align: middle;\n",
       "    }\n",
       "\n",
       "    .dataframe tbody tr th {\n",
       "        vertical-align: top;\n",
       "    }\n",
       "\n",
       "    .dataframe thead th {\n",
       "        text-align: right;\n",
       "    }\n",
       "</style>\n",
       "<table border=\"1\" class=\"dataframe\">\n",
       "  <thead>\n",
       "    <tr style=\"text-align: right;\">\n",
       "      <th></th>\n",
       "      <th>id</th>\n",
       "      <th>city</th>\n",
       "      <th>temperature</th>\n",
       "      <th>humidity</th>\n",
       "      <th>weather</th>\n",
       "      <th>hotel</th>\n",
       "      <th>website</th>\n",
       "      <th>score</th>\n",
       "      <th>description</th>\n",
       "      <th>lat</th>\n",
       "      <th>lon</th>\n",
       "    </tr>\n",
       "  </thead>\n",
       "  <tbody>\n",
       "    <tr>\n",
       "      <th>20</th>\n",
       "      <td>20</td>\n",
       "      <td>Saint Malo</td>\n",
       "      <td>12</td>\n",
       "      <td>100</td>\n",
       "      <td>Clear</td>\n",
       "      <td>NaN</td>\n",
       "      <td>NaN</td>\n",
       "      <td>NaN</td>\n",
       "      <td>NaN</td>\n",
       "      <td>NaN</td>\n",
       "      <td>NaN</td>\n",
       "    </tr>\n",
       "    <tr>\n",
       "      <th>81</th>\n",
       "      <td>81</td>\n",
       "      <td>Paris</td>\n",
       "      <td>14</td>\n",
       "      <td>92</td>\n",
       "      <td>Clear</td>\n",
       "      <td>District Nation</td>\n",
       "      <td>https://www.booking.com/hotel/fr/alfa-paris-na...</td>\n",
       "      <td>2 sur 5</td>\n",
       "      <td>Situé à Paris, à 500 mètres de la place de la ...</td>\n",
       "      <td>48.851311</td>\n",
       "      <td>2.392413</td>\n",
       "    </tr>\n",
       "    <tr>\n",
       "      <th>82</th>\n",
       "      <td>82</td>\n",
       "      <td>Paris</td>\n",
       "      <td>14</td>\n",
       "      <td>92</td>\n",
       "      <td>Clear</td>\n",
       "      <td>Hôtel De Venise</td>\n",
       "      <td>https://www.booking.com/hotel/fr/de-venise.fr....</td>\n",
       "      <td>2 sur 5</td>\n",
       "      <td>Situé à proximité de la Bastille et de la Gare...</td>\n",
       "      <td>48.845272</td>\n",
       "      <td>2.383612</td>\n",
       "    </tr>\n",
       "    <tr>\n",
       "      <th>83</th>\n",
       "      <td>83</td>\n",
       "      <td>Paris</td>\n",
       "      <td>14</td>\n",
       "      <td>92</td>\n",
       "      <td>Clear</td>\n",
       "      <td>La Maison Montparnasse</td>\n",
       "      <td>https://www.booking.com/hotel/fr/la-maison-mon...</td>\n",
       "      <td>2 sur 5</td>\n",
       "      <td>La Maison Montparnasse est située à 10 minutes...</td>\n",
       "      <td>48.832519</td>\n",
       "      <td>2.316845</td>\n",
       "    </tr>\n",
       "    <tr>\n",
       "      <th>84</th>\n",
       "      <td>84</td>\n",
       "      <td>Paris</td>\n",
       "      <td>14</td>\n",
       "      <td>92</td>\n",
       "      <td>Clear</td>\n",
       "      <td>Grand Hotel des Balcons</td>\n",
       "      <td>https://www.booking.com/hotel/fr/grand-des-bal...</td>\n",
       "      <td>2 sur 5</td>\n",
       "      <td>Situé dans le quartier chic de Saint-Germain à...</td>\n",
       "      <td>48.850422</td>\n",
       "      <td>2.339299</td>\n",
       "    </tr>\n",
       "    <tr>\n",
       "      <th>...</th>\n",
       "      <td>...</td>\n",
       "      <td>...</td>\n",
       "      <td>...</td>\n",
       "      <td>...</td>\n",
       "      <td>...</td>\n",
       "      <td>...</td>\n",
       "      <td>...</td>\n",
       "      <td>...</td>\n",
       "      <td>...</td>\n",
       "      <td>...</td>\n",
       "      <td>...</td>\n",
       "    </tr>\n",
       "    <tr>\n",
       "      <th>657</th>\n",
       "      <td>657</td>\n",
       "      <td>La Rochelle</td>\n",
       "      <td>15</td>\n",
       "      <td>94</td>\n",
       "      <td>Clear</td>\n",
       "      <td>Hôtel Le Bord'O Vieux Port</td>\n",
       "      <td>https://www.booking.com/hotel/fr/hoteldebordea...</td>\n",
       "      <td>2 sur 5</td>\n",
       "      <td>Occupant un bâtiment du XVIIIe siècle, le Hôte...</td>\n",
       "      <td>46.156877</td>\n",
       "      <td>-1.149112</td>\n",
       "    </tr>\n",
       "    <tr>\n",
       "      <th>658</th>\n",
       "      <td>658</td>\n",
       "      <td>La Rochelle</td>\n",
       "      <td>15</td>\n",
       "      <td>94</td>\n",
       "      <td>Clear</td>\n",
       "      <td>Accostage Hôtel Plage de la Concurrence</td>\n",
       "      <td>https://www.booking.com/hotel/fr/accostage.fr....</td>\n",
       "      <td>2 sur 5</td>\n",
       "      <td>L'Accostage Hôtel Plage de la Concurrence est ...</td>\n",
       "      <td>46.157124</td>\n",
       "      <td>-1.166042</td>\n",
       "    </tr>\n",
       "    <tr>\n",
       "      <th>659</th>\n",
       "      <td>659</td>\n",
       "      <td>La Rochelle</td>\n",
       "      <td>15</td>\n",
       "      <td>94</td>\n",
       "      <td>Clear</td>\n",
       "      <td>Hôtel de l'Océan</td>\n",
       "      <td>https://www.booking.com/hotel/fr/de-l-ocean-la...</td>\n",
       "      <td>2 sur 5</td>\n",
       "      <td>Construit en 1646, l'Hôtel de l'Océan se trouv...</td>\n",
       "      <td>46.157020</td>\n",
       "      <td>-1.154128</td>\n",
       "    </tr>\n",
       "    <tr>\n",
       "      <th>660</th>\n",
       "      <td>660</td>\n",
       "      <td>La Rochelle</td>\n",
       "      <td>15</td>\n",
       "      <td>94</td>\n",
       "      <td>Clear</td>\n",
       "      <td>Hotel La Marine, Vieux Port</td>\n",
       "      <td>https://www.booking.com/hotel/fr/la-marine-la-...</td>\n",
       "      <td>2 sur 5</td>\n",
       "      <td>L'Hôtel La Marine est situé dans le centre-vil...</td>\n",
       "      <td>46.158159</td>\n",
       "      <td>-1.152671</td>\n",
       "    </tr>\n",
       "    <tr>\n",
       "      <th>661</th>\n",
       "      <td>661</td>\n",
       "      <td>La Rochelle</td>\n",
       "      <td>15</td>\n",
       "      <td>94</td>\n",
       "      <td>Clear</td>\n",
       "      <td>Appartement La Rochelle, 2 pièces, 4 personnes...</td>\n",
       "      <td>https://www.booking.com/hotel/fr/appartement-l...</td>\n",
       "      <td>1 sur 5</td>\n",
       "      <td>L'Appartement La Rochelle, 2 pièces, 4 personn...</td>\n",
       "      <td>46.141130</td>\n",
       "      <td>-1.165159</td>\n",
       "    </tr>\n",
       "  </tbody>\n",
       "</table>\n",
       "<p>402 rows × 11 columns</p>\n",
       "</div>"
      ],
      "text/plain": [
       "      id         city  temperature  humidity weather  \\\n",
       "20    20   Saint Malo           12       100   Clear   \n",
       "81    81        Paris           14        92   Clear   \n",
       "82    82        Paris           14        92   Clear   \n",
       "83    83        Paris           14        92   Clear   \n",
       "84    84        Paris           14        92   Clear   \n",
       "..   ...          ...          ...       ...     ...   \n",
       "657  657  La Rochelle           15        94   Clear   \n",
       "658  658  La Rochelle           15        94   Clear   \n",
       "659  659  La Rochelle           15        94   Clear   \n",
       "660  660  La Rochelle           15        94   Clear   \n",
       "661  661  La Rochelle           15        94   Clear   \n",
       "\n",
       "                                                 hotel  \\\n",
       "20                                                 NaN   \n",
       "81                                     District Nation   \n",
       "82                                     Hôtel De Venise   \n",
       "83                              La Maison Montparnasse   \n",
       "84                             Grand Hotel des Balcons   \n",
       "..                                                 ...   \n",
       "657                         Hôtel Le Bord'O Vieux Port   \n",
       "658            Accostage Hôtel Plage de la Concurrence   \n",
       "659                                   Hôtel de l'Océan   \n",
       "660                        Hotel La Marine, Vieux Port   \n",
       "661  Appartement La Rochelle, 2 pièces, 4 personnes...   \n",
       "\n",
       "                                               website    score  \\\n",
       "20                                                 NaN      NaN   \n",
       "81   https://www.booking.com/hotel/fr/alfa-paris-na...  2 sur 5   \n",
       "82   https://www.booking.com/hotel/fr/de-venise.fr....  2 sur 5   \n",
       "83   https://www.booking.com/hotel/fr/la-maison-mon...  2 sur 5   \n",
       "84   https://www.booking.com/hotel/fr/grand-des-bal...  2 sur 5   \n",
       "..                                                 ...      ...   \n",
       "657  https://www.booking.com/hotel/fr/hoteldebordea...  2 sur 5   \n",
       "658  https://www.booking.com/hotel/fr/accostage.fr....  2 sur 5   \n",
       "659  https://www.booking.com/hotel/fr/de-l-ocean-la...  2 sur 5   \n",
       "660  https://www.booking.com/hotel/fr/la-marine-la-...  2 sur 5   \n",
       "661  https://www.booking.com/hotel/fr/appartement-l...  1 sur 5   \n",
       "\n",
       "                                           description        lat       lon  \n",
       "20                                                 NaN        NaN       NaN  \n",
       "81   Situé à Paris, à 500 mètres de la place de la ...  48.851311  2.392413  \n",
       "82   Situé à proximité de la Bastille et de la Gare...  48.845272  2.383612  \n",
       "83   La Maison Montparnasse est située à 10 minutes...  48.832519  2.316845  \n",
       "84   Situé dans le quartier chic de Saint-Germain à...  48.850422  2.339299  \n",
       "..                                                 ...        ...       ...  \n",
       "657  Occupant un bâtiment du XVIIIe siècle, le Hôte...  46.156877 -1.149112  \n",
       "658  L'Accostage Hôtel Plage de la Concurrence est ...  46.157124 -1.166042  \n",
       "659  Construit en 1646, l'Hôtel de l'Océan se trouv...  46.157020 -1.154128  \n",
       "660  L'Hôtel La Marine est situé dans le centre-vil...  46.158159 -1.152671  \n",
       "661  L'Appartement La Rochelle, 2 pièces, 4 personn...  46.141130 -1.165159  \n",
       "\n",
       "[402 rows x 11 columns]"
      ]
     },
     "execution_count": 229,
     "metadata": {},
     "output_type": "execute_result"
    }
   ],
   "source": [
    "filtered_df = df_fichier_final[(df_fichier_final[\"weather\"] == \"Clear\") | (df_fichier_final[\"weather\"] == \"light rain\")]\n",
    "filtered_df"
   ]
  },
  {
   "cell_type": "code",
   "execution_count": 246,
   "metadata": {},
   "outputs": [
    {
     "data": {
      "text/html": [
       "<div>\n",
       "<style scoped>\n",
       "    .dataframe tbody tr th:only-of-type {\n",
       "        vertical-align: middle;\n",
       "    }\n",
       "\n",
       "    .dataframe tbody tr th {\n",
       "        vertical-align: top;\n",
       "    }\n",
       "\n",
       "    .dataframe thead th {\n",
       "        text-align: right;\n",
       "    }\n",
       "</style>\n",
       "<table border=\"1\" class=\"dataframe\">\n",
       "  <thead>\n",
       "    <tr style=\"text-align: right;\">\n",
       "      <th></th>\n",
       "      <th>city</th>\n",
       "      <th>id</th>\n",
       "      <th>temperature</th>\n",
       "      <th>humidity</th>\n",
       "      <th>weather</th>\n",
       "      <th>hotel</th>\n",
       "      <th>website</th>\n",
       "      <th>score</th>\n",
       "      <th>description</th>\n",
       "      <th>lat</th>\n",
       "      <th>lon</th>\n",
       "    </tr>\n",
       "  </thead>\n",
       "  <tbody>\n",
       "    <tr>\n",
       "      <th>0</th>\n",
       "      <td>Bormes les Mimosas</td>\n",
       "      <td>341</td>\n",
       "      <td>23</td>\n",
       "      <td>53</td>\n",
       "      <td>Clear</td>\n",
       "      <td>Hotel des Arts - Cite Bergere</td>\n",
       "      <td>https://www.booking.com/hotel/fr/des-arts-pari...</td>\n",
       "      <td>2 sur 5</td>\n",
       "      <td>L'Hotel des Arts est situé dans le centre de P...</td>\n",
       "      <td>48.871880</td>\n",
       "      <td>2.344655</td>\n",
       "    </tr>\n",
       "    <tr>\n",
       "      <th>1</th>\n",
       "      <td>Aigues Mortes</td>\n",
       "      <td>481</td>\n",
       "      <td>22</td>\n",
       "      <td>53</td>\n",
       "      <td>Clear</td>\n",
       "      <td>None</td>\n",
       "      <td>None</td>\n",
       "      <td>None</td>\n",
       "      <td>None</td>\n",
       "      <td>NaN</td>\n",
       "      <td>NaN</td>\n",
       "    </tr>\n",
       "    <tr>\n",
       "      <th>2</th>\n",
       "      <td>Saintes Maries de la mer</td>\n",
       "      <td>482</td>\n",
       "      <td>22</td>\n",
       "      <td>57</td>\n",
       "      <td>Clear</td>\n",
       "      <td>Hotel Mas des Lys</td>\n",
       "      <td>https://www.booking.com/hotel/fr/mas-des-lys-l...</td>\n",
       "      <td>3 sur 5</td>\n",
       "      <td>L'Hôtel Mas des Lys est situé à Saintes-Maries...</td>\n",
       "      <td>43.474188</td>\n",
       "      <td>4.410206</td>\n",
       "    </tr>\n",
       "    <tr>\n",
       "      <th>3</th>\n",
       "      <td>Marseille</td>\n",
       "      <td>381</td>\n",
       "      <td>22</td>\n",
       "      <td>59</td>\n",
       "      <td>Clear</td>\n",
       "      <td>Love room Jacuzzi Sauna Privatif Marseille</td>\n",
       "      <td>https://www.booking.com/hotel/fr/loft-love-roo...</td>\n",
       "      <td>3 sur 5</td>\n",
       "      <td>Hébergement géré par un particulier</td>\n",
       "      <td>43.296098</td>\n",
       "      <td>5.487121</td>\n",
       "    </tr>\n",
       "    <tr>\n",
       "      <th>4</th>\n",
       "      <td>Collioure</td>\n",
       "      <td>502</td>\n",
       "      <td>21</td>\n",
       "      <td>55</td>\n",
       "      <td>Clear</td>\n",
       "      <td>Grand Hotel des Balcons</td>\n",
       "      <td>https://www.booking.com/hotel/fr/grand-des-bal...</td>\n",
       "      <td>2 sur 5</td>\n",
       "      <td>Situé dans le quartier chic de Saint-Germain à...</td>\n",
       "      <td>48.850422</td>\n",
       "      <td>2.339299</td>\n",
       "    </tr>\n",
       "  </tbody>\n",
       "</table>\n",
       "</div>"
      ],
      "text/plain": [
       "                       city   id  temperature  humidity weather  \\\n",
       "0        Bormes les Mimosas  341           23        53   Clear   \n",
       "1             Aigues Mortes  481           22        53   Clear   \n",
       "2  Saintes Maries de la mer  482           22        57   Clear   \n",
       "3                 Marseille  381           22        59   Clear   \n",
       "4                 Collioure  502           21        55   Clear   \n",
       "\n",
       "                                        hotel  \\\n",
       "0               Hotel des Arts - Cite Bergere   \n",
       "1                                        None   \n",
       "2                           Hotel Mas des Lys   \n",
       "3  Love room Jacuzzi Sauna Privatif Marseille   \n",
       "4                     Grand Hotel des Balcons   \n",
       "\n",
       "                                             website    score  \\\n",
       "0  https://www.booking.com/hotel/fr/des-arts-pari...  2 sur 5   \n",
       "1                                               None     None   \n",
       "2  https://www.booking.com/hotel/fr/mas-des-lys-l...  3 sur 5   \n",
       "3  https://www.booking.com/hotel/fr/loft-love-roo...  3 sur 5   \n",
       "4  https://www.booking.com/hotel/fr/grand-des-bal...  2 sur 5   \n",
       "\n",
       "                                         description        lat       lon  \n",
       "0  L'Hotel des Arts est situé dans le centre de P...  48.871880  2.344655  \n",
       "1                                               None        NaN       NaN  \n",
       "2  L'Hôtel Mas des Lys est situé à Saintes-Maries...  43.474188  4.410206  \n",
       "3                Hébergement géré par un particulier  43.296098  5.487121  \n",
       "4  Situé dans le quartier chic de Saint-Germain à...  48.850422  2.339299  "
      ]
     },
     "execution_count": 246,
     "metadata": {},
     "output_type": "execute_result"
    }
   ],
   "source": [
    "# Best weather\n",
    "filtered_df = df_fichier_final[(df_fichier_final[\"weather\"] == \"Clear\") | (df_fichier_final[\"weather\"] == \"light rain\")]\n",
    "\n",
    "# Then group by 'city', select the first entry, sort by 'temperature', and take the top 5\n",
    "df_top_five = filtered_df.groupby(by='city').first().sort_values(by=['temperature'], ascending=False).reset_index().head(5)\n",
    "\n",
    "df_top_five.head()"
   ]
  },
  {
   "cell_type": "code",
   "execution_count": 247,
   "metadata": {},
   "outputs": [
    {
     "name": "stdout",
     "output_type": "stream",
     "text": [
      "City: Bormes les Mimosas, Temperature : 23°C, Weather: Clear\n",
      "City: Aigues Mortes, Temperature : 22°C, Weather: Clear\n",
      "City: Saintes Maries de la mer, Temperature : 22°C, Weather: Clear\n",
      "City: Marseille, Temperature : 22°C, Weather: Clear\n",
      "City: Collioure, Temperature : 21°C, Weather: Clear\n",
      "Les résultats ont été enregistrés dans 'meteo_data.csv'\n"
     ]
    }
   ],
   "source": [
    "csv_filename = \"top_five_weather.csv\"\n",
    "\n",
    "# Créer un fichier CSV\n",
    "with open(csv_filename, 'w', newline='') as csvfile:\n",
    "    fieldnames = ['City', 'Temperature (°C)', 'Weather']\n",
    "    writer = csv.DictWriter(csvfile, fieldnames=fieldnames)\n",
    "    writer.writeheader()\n",
    "\n",
    "    # Parcourir les lignes du DataFrame\n",
    "    for index, row in df_top_five.iterrows():\n",
    "        city = row['city']\n",
    "        temperature = row['temperature']\n",
    "        weather = row['weather']\n",
    "        writer.writerow({'City': city, 'Temperature (°C)': temperature, 'Weather': weather})\n",
    "        print(f\"City: {city}, Temperature : {temperature}°C, Weather: {weather}\")\n",
    "   \n",
    "\n",
    "print(\"Les résultats ont été enregistrés dans 'meteo_data.csv'\")"
   ]
  },
  {
   "cell_type": "markdown",
   "metadata": {},
   "source": [
    "Top 5 map"
   ]
  },
  {
   "cell_type": "code",
   "execution_count": 248,
   "metadata": {},
   "outputs": [
    {
     "data": {
      "application/vnd.plotly.v1+json": {
       "config": {
        "plotlyServerURL": "https://plot.ly"
       },
       "data": [
        {
         "hovertemplate": "humidity=%{marker.size}<br>lat=%{lat}<br>lon=%{lon}<br>temperature=%{marker.color}<extra></extra>",
         "lat": [
          48.87188026,
          null,
          43.47418844,
          43.296098,
          48.85042234
         ],
         "legendgroup": "",
         "lon": [
          2.34465466,
          null,
          4.41020608,
          5.487121,
          2.33929932
         ],
         "marker": {
          "color": [
           23,
           22,
           22,
           22,
           21
          ],
          "coloraxis": "coloraxis",
          "size": [
           53,
           53,
           57,
           59,
           55
          ],
          "sizemode": "area",
          "sizeref": 0.1475
         },
         "mode": "markers",
         "name": "",
         "showlegend": false,
         "subplot": "mapbox",
         "type": "scattermapbox"
        }
       ],
       "layout": {
        "coloraxis": {
         "colorbar": {
          "title": {
           "text": "temperature"
          }
         },
         "colorscale": [
          [
           0,
           "rgb(57, 162, 225)"
          ],
          [
           1,
           "rgb(234, 32, 41)"
          ]
         ]
        },
        "height": 510,
        "legend": {
         "itemsizing": "constant",
         "tracegroupgap": 0
        },
        "mapbox": {
         "center": {
          "lat": 46.123147259999996,
          "lon": 3.645320265
         },
         "domain": {
          "x": [
           0,
           1
          ],
          "y": [
           0,
           1
          ]
         },
         "style": "open-street-map",
         "zoom": 4
        },
        "margin": {
         "t": 60
        },
        "template": {
         "data": {
          "bar": [
           {
            "error_x": {
             "color": "#2a3f5f"
            },
            "error_y": {
             "color": "#2a3f5f"
            },
            "marker": {
             "line": {
              "color": "#E5ECF6",
              "width": 0.5
             },
             "pattern": {
              "fillmode": "overlay",
              "size": 10,
              "solidity": 0.2
             }
            },
            "type": "bar"
           }
          ],
          "barpolar": [
           {
            "marker": {
             "line": {
              "color": "#E5ECF6",
              "width": 0.5
             },
             "pattern": {
              "fillmode": "overlay",
              "size": 10,
              "solidity": 0.2
             }
            },
            "type": "barpolar"
           }
          ],
          "carpet": [
           {
            "aaxis": {
             "endlinecolor": "#2a3f5f",
             "gridcolor": "white",
             "linecolor": "white",
             "minorgridcolor": "white",
             "startlinecolor": "#2a3f5f"
            },
            "baxis": {
             "endlinecolor": "#2a3f5f",
             "gridcolor": "white",
             "linecolor": "white",
             "minorgridcolor": "white",
             "startlinecolor": "#2a3f5f"
            },
            "type": "carpet"
           }
          ],
          "choropleth": [
           {
            "colorbar": {
             "outlinewidth": 0,
             "ticks": ""
            },
            "type": "choropleth"
           }
          ],
          "contour": [
           {
            "colorbar": {
             "outlinewidth": 0,
             "ticks": ""
            },
            "colorscale": [
             [
              0,
              "#0d0887"
             ],
             [
              0.1111111111111111,
              "#46039f"
             ],
             [
              0.2222222222222222,
              "#7201a8"
             ],
             [
              0.3333333333333333,
              "#9c179e"
             ],
             [
              0.4444444444444444,
              "#bd3786"
             ],
             [
              0.5555555555555556,
              "#d8576b"
             ],
             [
              0.6666666666666666,
              "#ed7953"
             ],
             [
              0.7777777777777778,
              "#fb9f3a"
             ],
             [
              0.8888888888888888,
              "#fdca26"
             ],
             [
              1,
              "#f0f921"
             ]
            ],
            "type": "contour"
           }
          ],
          "contourcarpet": [
           {
            "colorbar": {
             "outlinewidth": 0,
             "ticks": ""
            },
            "type": "contourcarpet"
           }
          ],
          "heatmap": [
           {
            "colorbar": {
             "outlinewidth": 0,
             "ticks": ""
            },
            "colorscale": [
             [
              0,
              "#0d0887"
             ],
             [
              0.1111111111111111,
              "#46039f"
             ],
             [
              0.2222222222222222,
              "#7201a8"
             ],
             [
              0.3333333333333333,
              "#9c179e"
             ],
             [
              0.4444444444444444,
              "#bd3786"
             ],
             [
              0.5555555555555556,
              "#d8576b"
             ],
             [
              0.6666666666666666,
              "#ed7953"
             ],
             [
              0.7777777777777778,
              "#fb9f3a"
             ],
             [
              0.8888888888888888,
              "#fdca26"
             ],
             [
              1,
              "#f0f921"
             ]
            ],
            "type": "heatmap"
           }
          ],
          "heatmapgl": [
           {
            "colorbar": {
             "outlinewidth": 0,
             "ticks": ""
            },
            "colorscale": [
             [
              0,
              "#0d0887"
             ],
             [
              0.1111111111111111,
              "#46039f"
             ],
             [
              0.2222222222222222,
              "#7201a8"
             ],
             [
              0.3333333333333333,
              "#9c179e"
             ],
             [
              0.4444444444444444,
              "#bd3786"
             ],
             [
              0.5555555555555556,
              "#d8576b"
             ],
             [
              0.6666666666666666,
              "#ed7953"
             ],
             [
              0.7777777777777778,
              "#fb9f3a"
             ],
             [
              0.8888888888888888,
              "#fdca26"
             ],
             [
              1,
              "#f0f921"
             ]
            ],
            "type": "heatmapgl"
           }
          ],
          "histogram": [
           {
            "marker": {
             "pattern": {
              "fillmode": "overlay",
              "size": 10,
              "solidity": 0.2
             }
            },
            "type": "histogram"
           }
          ],
          "histogram2d": [
           {
            "colorbar": {
             "outlinewidth": 0,
             "ticks": ""
            },
            "colorscale": [
             [
              0,
              "#0d0887"
             ],
             [
              0.1111111111111111,
              "#46039f"
             ],
             [
              0.2222222222222222,
              "#7201a8"
             ],
             [
              0.3333333333333333,
              "#9c179e"
             ],
             [
              0.4444444444444444,
              "#bd3786"
             ],
             [
              0.5555555555555556,
              "#d8576b"
             ],
             [
              0.6666666666666666,
              "#ed7953"
             ],
             [
              0.7777777777777778,
              "#fb9f3a"
             ],
             [
              0.8888888888888888,
              "#fdca26"
             ],
             [
              1,
              "#f0f921"
             ]
            ],
            "type": "histogram2d"
           }
          ],
          "histogram2dcontour": [
           {
            "colorbar": {
             "outlinewidth": 0,
             "ticks": ""
            },
            "colorscale": [
             [
              0,
              "#0d0887"
             ],
             [
              0.1111111111111111,
              "#46039f"
             ],
             [
              0.2222222222222222,
              "#7201a8"
             ],
             [
              0.3333333333333333,
              "#9c179e"
             ],
             [
              0.4444444444444444,
              "#bd3786"
             ],
             [
              0.5555555555555556,
              "#d8576b"
             ],
             [
              0.6666666666666666,
              "#ed7953"
             ],
             [
              0.7777777777777778,
              "#fb9f3a"
             ],
             [
              0.8888888888888888,
              "#fdca26"
             ],
             [
              1,
              "#f0f921"
             ]
            ],
            "type": "histogram2dcontour"
           }
          ],
          "mesh3d": [
           {
            "colorbar": {
             "outlinewidth": 0,
             "ticks": ""
            },
            "type": "mesh3d"
           }
          ],
          "parcoords": [
           {
            "line": {
             "colorbar": {
              "outlinewidth": 0,
              "ticks": ""
             }
            },
            "type": "parcoords"
           }
          ],
          "pie": [
           {
            "automargin": true,
            "type": "pie"
           }
          ],
          "scatter": [
           {
            "fillpattern": {
             "fillmode": "overlay",
             "size": 10,
             "solidity": 0.2
            },
            "type": "scatter"
           }
          ],
          "scatter3d": [
           {
            "line": {
             "colorbar": {
              "outlinewidth": 0,
              "ticks": ""
             }
            },
            "marker": {
             "colorbar": {
              "outlinewidth": 0,
              "ticks": ""
             }
            },
            "type": "scatter3d"
           }
          ],
          "scattercarpet": [
           {
            "marker": {
             "colorbar": {
              "outlinewidth": 0,
              "ticks": ""
             }
            },
            "type": "scattercarpet"
           }
          ],
          "scattergeo": [
           {
            "marker": {
             "colorbar": {
              "outlinewidth": 0,
              "ticks": ""
             }
            },
            "type": "scattergeo"
           }
          ],
          "scattergl": [
           {
            "marker": {
             "colorbar": {
              "outlinewidth": 0,
              "ticks": ""
             }
            },
            "type": "scattergl"
           }
          ],
          "scattermapbox": [
           {
            "marker": {
             "colorbar": {
              "outlinewidth": 0,
              "ticks": ""
             }
            },
            "type": "scattermapbox"
           }
          ],
          "scatterpolar": [
           {
            "marker": {
             "colorbar": {
              "outlinewidth": 0,
              "ticks": ""
             }
            },
            "type": "scatterpolar"
           }
          ],
          "scatterpolargl": [
           {
            "marker": {
             "colorbar": {
              "outlinewidth": 0,
              "ticks": ""
             }
            },
            "type": "scatterpolargl"
           }
          ],
          "scatterternary": [
           {
            "marker": {
             "colorbar": {
              "outlinewidth": 0,
              "ticks": ""
             }
            },
            "type": "scatterternary"
           }
          ],
          "surface": [
           {
            "colorbar": {
             "outlinewidth": 0,
             "ticks": ""
            },
            "colorscale": [
             [
              0,
              "#0d0887"
             ],
             [
              0.1111111111111111,
              "#46039f"
             ],
             [
              0.2222222222222222,
              "#7201a8"
             ],
             [
              0.3333333333333333,
              "#9c179e"
             ],
             [
              0.4444444444444444,
              "#bd3786"
             ],
             [
              0.5555555555555556,
              "#d8576b"
             ],
             [
              0.6666666666666666,
              "#ed7953"
             ],
             [
              0.7777777777777778,
              "#fb9f3a"
             ],
             [
              0.8888888888888888,
              "#fdca26"
             ],
             [
              1,
              "#f0f921"
             ]
            ],
            "type": "surface"
           }
          ],
          "table": [
           {
            "cells": {
             "fill": {
              "color": "#EBF0F8"
             },
             "line": {
              "color": "white"
             }
            },
            "header": {
             "fill": {
              "color": "#C8D4E3"
             },
             "line": {
              "color": "white"
             }
            },
            "type": "table"
           }
          ]
         },
         "layout": {
          "annotationdefaults": {
           "arrowcolor": "#2a3f5f",
           "arrowhead": 0,
           "arrowwidth": 1
          },
          "autotypenumbers": "strict",
          "coloraxis": {
           "colorbar": {
            "outlinewidth": 0,
            "ticks": ""
           }
          },
          "colorscale": {
           "diverging": [
            [
             0,
             "#8e0152"
            ],
            [
             0.1,
             "#c51b7d"
            ],
            [
             0.2,
             "#de77ae"
            ],
            [
             0.3,
             "#f1b6da"
            ],
            [
             0.4,
             "#fde0ef"
            ],
            [
             0.5,
             "#f7f7f7"
            ],
            [
             0.6,
             "#e6f5d0"
            ],
            [
             0.7,
             "#b8e186"
            ],
            [
             0.8,
             "#7fbc41"
            ],
            [
             0.9,
             "#4d9221"
            ],
            [
             1,
             "#276419"
            ]
           ],
           "sequential": [
            [
             0,
             "#0d0887"
            ],
            [
             0.1111111111111111,
             "#46039f"
            ],
            [
             0.2222222222222222,
             "#7201a8"
            ],
            [
             0.3333333333333333,
             "#9c179e"
            ],
            [
             0.4444444444444444,
             "#bd3786"
            ],
            [
             0.5555555555555556,
             "#d8576b"
            ],
            [
             0.6666666666666666,
             "#ed7953"
            ],
            [
             0.7777777777777778,
             "#fb9f3a"
            ],
            [
             0.8888888888888888,
             "#fdca26"
            ],
            [
             1,
             "#f0f921"
            ]
           ],
           "sequentialminus": [
            [
             0,
             "#0d0887"
            ],
            [
             0.1111111111111111,
             "#46039f"
            ],
            [
             0.2222222222222222,
             "#7201a8"
            ],
            [
             0.3333333333333333,
             "#9c179e"
            ],
            [
             0.4444444444444444,
             "#bd3786"
            ],
            [
             0.5555555555555556,
             "#d8576b"
            ],
            [
             0.6666666666666666,
             "#ed7953"
            ],
            [
             0.7777777777777778,
             "#fb9f3a"
            ],
            [
             0.8888888888888888,
             "#fdca26"
            ],
            [
             1,
             "#f0f921"
            ]
           ]
          },
          "colorway": [
           "#636efa",
           "#EF553B",
           "#00cc96",
           "#ab63fa",
           "#FFA15A",
           "#19d3f3",
           "#FF6692",
           "#B6E880",
           "#FF97FF",
           "#FECB52"
          ],
          "font": {
           "color": "#2a3f5f"
          },
          "geo": {
           "bgcolor": "white",
           "lakecolor": "white",
           "landcolor": "#E5ECF6",
           "showlakes": true,
           "showland": true,
           "subunitcolor": "white"
          },
          "hoverlabel": {
           "align": "left"
          },
          "hovermode": "closest",
          "mapbox": {
           "style": "light"
          },
          "paper_bgcolor": "white",
          "plot_bgcolor": "#E5ECF6",
          "polar": {
           "angularaxis": {
            "gridcolor": "white",
            "linecolor": "white",
            "ticks": ""
           },
           "bgcolor": "#E5ECF6",
           "radialaxis": {
            "gridcolor": "white",
            "linecolor": "white",
            "ticks": ""
           }
          },
          "scene": {
           "xaxis": {
            "backgroundcolor": "#E5ECF6",
            "gridcolor": "white",
            "gridwidth": 2,
            "linecolor": "white",
            "showbackground": true,
            "ticks": "",
            "zerolinecolor": "white"
           },
           "yaxis": {
            "backgroundcolor": "#E5ECF6",
            "gridcolor": "white",
            "gridwidth": 2,
            "linecolor": "white",
            "showbackground": true,
            "ticks": "",
            "zerolinecolor": "white"
           },
           "zaxis": {
            "backgroundcolor": "#E5ECF6",
            "gridcolor": "white",
            "gridwidth": 2,
            "linecolor": "white",
            "showbackground": true,
            "ticks": "",
            "zerolinecolor": "white"
           }
          },
          "shapedefaults": {
           "line": {
            "color": "#2a3f5f"
           }
          },
          "ternary": {
           "aaxis": {
            "gridcolor": "white",
            "linecolor": "white",
            "ticks": ""
           },
           "baxis": {
            "gridcolor": "white",
            "linecolor": "white",
            "ticks": ""
           },
           "bgcolor": "#E5ECF6",
           "caxis": {
            "gridcolor": "white",
            "linecolor": "white",
            "ticks": ""
           }
          },
          "title": {
           "x": 0.05
          },
          "xaxis": {
           "automargin": true,
           "gridcolor": "white",
           "linecolor": "white",
           "ticks": "",
           "title": {
            "standoff": 15
           },
           "zerolinecolor": "white",
           "zerolinewidth": 2
          },
          "yaxis": {
           "automargin": true,
           "gridcolor": "white",
           "linecolor": "white",
           "ticks": "",
           "title": {
            "standoff": 15
           },
           "zerolinecolor": "white",
           "zerolinewidth": 2
          }
         }
        },
        "width": 700
       }
      }
     },
     "metadata": {},
     "output_type": "display_data"
    }
   ],
   "source": [
    "colorscale = [\n",
    "[0, 'rgb(57, 162, 225)'],\n",
    "[1, 'rgb(234, 32, 41)']\n",
    "]\n",
    "fig = px.scatter_mapbox(df_top_five, lat=\"lat\", lon=\"lon\", color=\"temperature\", size=\"humidity\",\n",
    "                         mapbox_style=\"open-street-map\", zoom = 4, color_continuous_scale=colorscale, height=510, width=700)\n",
    "fig.show()"
   ]
  }
 ],
 "metadata": {
  "kernelspec": {
   "display_name": "base",
   "language": "python",
   "name": "python3"
  },
  "language_info": {
   "codemirror_mode": {
    "name": "ipython",
    "version": 3
   },
   "file_extension": ".py",
   "mimetype": "text/x-python",
   "name": "python",
   "nbconvert_exporter": "python",
   "pygments_lexer": "ipython3",
   "version": "3.11.5"
  }
 },
 "nbformat": 4,
 "nbformat_minor": 2
}
